{
 "cells": [
  {
   "cell_type": "markdown",
   "metadata": {},
   "source": [
    "![seoul and the Han river](./img/seoul.jpg)"
   ]
  },
  {
   "cell_type": "markdown",
   "metadata": {},
   "source": [
    "![Asia Top Rank](./img/Asia_chart.png)\n",
    "\n",
    "Have you been to Seoul, the heart of South Korea? It is a wonderful city until you decide to buy your own living space. As we can see above, it is widely known that Seoul's apartments price is infamous and it keeps surging amid the unprecedented COVID-19 outbreak. According to the Hankyung News, the most expensive apartment, \"Hannam the Hill\", records its real price at \\\\$6,249,522 (= 7,300,000,000 won), whose price per $m^2$ reaches \\\\$26,040. (source: https://www.eca-international.com/news/april-2020/taipei-enters-the-top-50-most-expensive-cities-in_/ http://www.hani.co.kr/arti/economy/property/957824.html)"
   ]
  },
  {
   "cell_type": "markdown",
   "metadata": {},
   "source": [
    "Today, our goal is to predict the apartment located at Seoul considering its address, completion year, transaction date, floor, and surrounding facilities such as child day care centers or parks."
   ]
  },
  {
   "cell_type": "markdown",
   "metadata": {},
   "source": [
    "#### Env Setting & Data Import"
   ]
  },
  {
   "cell_type": "code",
   "execution_count": 1,
   "metadata": {},
   "outputs": [],
   "source": [
    "import pandas as pd\n",
    "import numpy as np\n",
    "import matplotlib.pyplot as plt\n",
    "import seaborn as sns\n",
    "import warnings\n",
    "warnings.filterwarnings('ignore')\n",
    "pd.set_option('display.float_format', lambda x: '%.2f' % x)\n",
    "%matplotlib inline\n",
    "\n",
    "# import datasets\n",
    "train = pd.read_csv('./input/train.csv')\n",
    "day_care_center = pd.read_csv('./input/day_care_center.csv')\n",
    "park = pd.read_csv('./input/park.csv')\n",
    "test = pd.read_csv('./input/test.csv')"
   ]
  },
  {
   "cell_type": "markdown",
   "metadata": {},
   "source": [
    "## Data Exploration\n",
    "\n",
    "##### (1) train"
   ]
  },
  {
   "cell_type": "code",
   "execution_count": 2,
   "metadata": {},
   "outputs": [
    {
     "data": {
      "text/html": [
       "<div>\n",
       "<style scoped>\n",
       "    .dataframe tbody tr th:only-of-type {\n",
       "        vertical-align: middle;\n",
       "    }\n",
       "\n",
       "    .dataframe tbody tr th {\n",
       "        vertical-align: top;\n",
       "    }\n",
       "\n",
       "    .dataframe thead th {\n",
       "        text-align: right;\n",
       "    }\n",
       "</style>\n",
       "<table border=\"1\" class=\"dataframe\">\n",
       "  <thead>\n",
       "    <tr style=\"text-align: right;\">\n",
       "      <th></th>\n",
       "      <th>transaction_id</th>\n",
       "      <th>apartment_id</th>\n",
       "      <th>city</th>\n",
       "      <th>dong</th>\n",
       "      <th>jibun</th>\n",
       "      <th>apt</th>\n",
       "      <th>addr_kr</th>\n",
       "      <th>exclusive_use_area</th>\n",
       "      <th>year_of_completion</th>\n",
       "      <th>transaction_year_month</th>\n",
       "      <th>transaction_date</th>\n",
       "      <th>floor</th>\n",
       "      <th>transaction_real_price</th>\n",
       "    </tr>\n",
       "  </thead>\n",
       "  <tbody>\n",
       "    <tr>\n",
       "      <th>0</th>\n",
       "      <td>0</td>\n",
       "      <td>7622</td>\n",
       "      <td>서울특별시</td>\n",
       "      <td>신교동</td>\n",
       "      <td>6-13</td>\n",
       "      <td>신현(101동)</td>\n",
       "      <td>신교동 6-13 신현(101동)</td>\n",
       "      <td>84.82</td>\n",
       "      <td>2002</td>\n",
       "      <td>200801</td>\n",
       "      <td>21~31</td>\n",
       "      <td>2</td>\n",
       "      <td>37500</td>\n",
       "    </tr>\n",
       "    <tr>\n",
       "      <th>1</th>\n",
       "      <td>1</td>\n",
       "      <td>5399</td>\n",
       "      <td>서울특별시</td>\n",
       "      <td>필운동</td>\n",
       "      <td>142</td>\n",
       "      <td>사직파크맨션</td>\n",
       "      <td>필운동 142 사직파크맨션</td>\n",
       "      <td>99.17</td>\n",
       "      <td>1973</td>\n",
       "      <td>200801</td>\n",
       "      <td>1~10</td>\n",
       "      <td>6</td>\n",
       "      <td>20000</td>\n",
       "    </tr>\n",
       "    <tr>\n",
       "      <th>2</th>\n",
       "      <td>2</td>\n",
       "      <td>3578</td>\n",
       "      <td>서울특별시</td>\n",
       "      <td>필운동</td>\n",
       "      <td>174-1</td>\n",
       "      <td>두레엘리시안</td>\n",
       "      <td>필운동 174-1 두레엘리시안</td>\n",
       "      <td>84.74</td>\n",
       "      <td>2007</td>\n",
       "      <td>200801</td>\n",
       "      <td>1~10</td>\n",
       "      <td>6</td>\n",
       "      <td>38500</td>\n",
       "    </tr>\n",
       "    <tr>\n",
       "      <th>3</th>\n",
       "      <td>3</td>\n",
       "      <td>10957</td>\n",
       "      <td>서울특별시</td>\n",
       "      <td>내수동</td>\n",
       "      <td>95</td>\n",
       "      <td>파크팰리스</td>\n",
       "      <td>내수동 95 파크팰리스</td>\n",
       "      <td>146.39</td>\n",
       "      <td>2003</td>\n",
       "      <td>200801</td>\n",
       "      <td>11~20</td>\n",
       "      <td>15</td>\n",
       "      <td>118000</td>\n",
       "    </tr>\n",
       "    <tr>\n",
       "      <th>4</th>\n",
       "      <td>4</td>\n",
       "      <td>10639</td>\n",
       "      <td>서울특별시</td>\n",
       "      <td>내수동</td>\n",
       "      <td>110-15</td>\n",
       "      <td>킹스매너</td>\n",
       "      <td>내수동 110-15 킹스매너</td>\n",
       "      <td>194.43</td>\n",
       "      <td>2004</td>\n",
       "      <td>200801</td>\n",
       "      <td>21~31</td>\n",
       "      <td>3</td>\n",
       "      <td>120000</td>\n",
       "    </tr>\n",
       "  </tbody>\n",
       "</table>\n",
       "</div>"
      ],
      "text/plain": [
       "   transaction_id  apartment_id   city dong   jibun       apt  \\\n",
       "0               0          7622  서울특별시  신교동    6-13  신현(101동)   \n",
       "1               1          5399  서울특별시  필운동     142    사직파크맨션   \n",
       "2               2          3578  서울특별시  필운동   174-1    두레엘리시안   \n",
       "3               3         10957  서울특별시  내수동      95     파크팰리스   \n",
       "4               4         10639  서울특별시  내수동  110-15      킹스매너   \n",
       "\n",
       "             addr_kr  exclusive_use_area  year_of_completion  \\\n",
       "0  신교동 6-13 신현(101동)               84.82                2002   \n",
       "1     필운동 142 사직파크맨션               99.17                1973   \n",
       "2   필운동 174-1 두레엘리시안               84.74                2007   \n",
       "3       내수동 95 파크팰리스              146.39                2003   \n",
       "4    내수동 110-15 킹스매너              194.43                2004   \n",
       "\n",
       "   transaction_year_month transaction_date  floor  transaction_real_price  \n",
       "0                  200801            21~31      2                   37500  \n",
       "1                  200801             1~10      6                   20000  \n",
       "2                  200801             1~10      6                   38500  \n",
       "3                  200801            11~20     15                  118000  \n",
       "4                  200801            21~31      3                  120000  "
      ]
     },
     "execution_count": 2,
     "metadata": {},
     "output_type": "execute_result"
    }
   ],
   "source": [
    "# (1) train\n",
    "train.head()"
   ]
  },
  {
   "cell_type": "code",
   "execution_count": 3,
   "metadata": {},
   "outputs": [
    {
     "name": "stdout",
     "output_type": "stream",
     "text": [
      "<class 'pandas.core.frame.DataFrame'>\n",
      "RangeIndex: 1216553 entries, 0 to 1216552\n",
      "Data columns (total 13 columns):\n",
      " #   Column                  Non-Null Count    Dtype  \n",
      "---  ------                  --------------    -----  \n",
      " 0   transaction_id          1216553 non-null  int64  \n",
      " 1   apartment_id            1216553 non-null  int64  \n",
      " 2   city                    1216553 non-null  object \n",
      " 3   dong                    1216553 non-null  object \n",
      " 4   jibun                   1216553 non-null  object \n",
      " 5   apt                     1216553 non-null  object \n",
      " 6   addr_kr                 1216553 non-null  object \n",
      " 7   exclusive_use_area      1216553 non-null  float64\n",
      " 8   year_of_completion      1216553 non-null  int64  \n",
      " 9   transaction_year_month  1216553 non-null  int64  \n",
      " 10  transaction_date        1216553 non-null  object \n",
      " 11  floor                   1216553 non-null  int64  \n",
      " 12  transaction_real_price  1216553 non-null  int64  \n",
      "dtypes: float64(1), int64(6), object(6)\n",
      "memory usage: 120.7+ MB\n"
     ]
    }
   ],
   "source": [
    "# check data types\n",
    "train.info()"
   ]
  },
  {
   "cell_type": "code",
   "execution_count": 4,
   "metadata": {},
   "outputs": [
    {
     "data": {
      "text/plain": [
       "transaction_id            0\n",
       "apartment_id              0\n",
       "city                      0\n",
       "dong                      0\n",
       "jibun                     0\n",
       "apt                       0\n",
       "addr_kr                   0\n",
       "exclusive_use_area        0\n",
       "year_of_completion        0\n",
       "transaction_year_month    0\n",
       "transaction_date          0\n",
       "floor                     0\n",
       "transaction_real_price    0\n",
       "dtype: int64"
      ]
     },
     "execution_count": 4,
     "metadata": {},
     "output_type": "execute_result"
    }
   ],
   "source": [
    "# check missing values\n",
    "train.isnull().sum()"
   ]
  },
  {
   "cell_type": "code",
   "execution_count": 5,
   "metadata": {},
   "outputs": [
    {
     "data": {
      "text/html": [
       "<div>\n",
       "<style scoped>\n",
       "    .dataframe tbody tr th:only-of-type {\n",
       "        vertical-align: middle;\n",
       "    }\n",
       "\n",
       "    .dataframe tbody tr th {\n",
       "        vertical-align: top;\n",
       "    }\n",
       "\n",
       "    .dataframe thead th {\n",
       "        text-align: right;\n",
       "    }\n",
       "</style>\n",
       "<table border=\"1\" class=\"dataframe\">\n",
       "  <thead>\n",
       "    <tr style=\"text-align: right;\">\n",
       "      <th></th>\n",
       "      <th>transaction_id</th>\n",
       "      <th>apartment_id</th>\n",
       "      <th>exclusive_use_area</th>\n",
       "      <th>year_of_completion</th>\n",
       "      <th>transaction_year_month</th>\n",
       "      <th>floor</th>\n",
       "      <th>transaction_real_price</th>\n",
       "    </tr>\n",
       "  </thead>\n",
       "  <tbody>\n",
       "    <tr>\n",
       "      <th>count</th>\n",
       "      <td>1216553.00</td>\n",
       "      <td>1216553.00</td>\n",
       "      <td>1216553.00</td>\n",
       "      <td>1216553.00</td>\n",
       "      <td>1216553.00</td>\n",
       "      <td>1216553.00</td>\n",
       "      <td>1216553.00</td>\n",
       "    </tr>\n",
       "    <tr>\n",
       "      <th>mean</th>\n",
       "      <td>609153.00</td>\n",
       "      <td>6299.68</td>\n",
       "      <td>78.17</td>\n",
       "      <td>1998.30</td>\n",
       "      <td>201298.44</td>\n",
       "      <td>9.34</td>\n",
       "      <td>38227.69</td>\n",
       "    </tr>\n",
       "    <tr>\n",
       "      <th>std</th>\n",
       "      <td>352619.83</td>\n",
       "      <td>3581.17</td>\n",
       "      <td>29.15</td>\n",
       "      <td>8.94</td>\n",
       "      <td>290.57</td>\n",
       "      <td>6.61</td>\n",
       "      <td>31048.98</td>\n",
       "    </tr>\n",
       "    <tr>\n",
       "      <th>min</th>\n",
       "      <td>0.00</td>\n",
       "      <td>0.00</td>\n",
       "      <td>9.26</td>\n",
       "      <td>1961.00</td>\n",
       "      <td>200801.00</td>\n",
       "      <td>-4.00</td>\n",
       "      <td>100.00</td>\n",
       "    </tr>\n",
       "    <tr>\n",
       "      <th>25%</th>\n",
       "      <td>304138.00</td>\n",
       "      <td>3345.00</td>\n",
       "      <td>59.76</td>\n",
       "      <td>1993.00</td>\n",
       "      <td>201010.00</td>\n",
       "      <td>4.00</td>\n",
       "      <td>19000.00</td>\n",
       "    </tr>\n",
       "    <tr>\n",
       "      <th>50%</th>\n",
       "      <td>608276.00</td>\n",
       "      <td>5964.00</td>\n",
       "      <td>82.41</td>\n",
       "      <td>1999.00</td>\n",
       "      <td>201312.00</td>\n",
       "      <td>8.00</td>\n",
       "      <td>30900.00</td>\n",
       "    </tr>\n",
       "    <tr>\n",
       "      <th>75%</th>\n",
       "      <td>912414.00</td>\n",
       "      <td>9436.00</td>\n",
       "      <td>84.97</td>\n",
       "      <td>2005.00</td>\n",
       "      <td>201511.00</td>\n",
       "      <td>13.00</td>\n",
       "      <td>47000.00</td>\n",
       "    </tr>\n",
       "    <tr>\n",
       "      <th>max</th>\n",
       "      <td>1234827.00</td>\n",
       "      <td>12658.00</td>\n",
       "      <td>424.32</td>\n",
       "      <td>2017.00</td>\n",
       "      <td>201711.00</td>\n",
       "      <td>80.00</td>\n",
       "      <td>820000.00</td>\n",
       "    </tr>\n",
       "  </tbody>\n",
       "</table>\n",
       "</div>"
      ],
      "text/plain": [
       "       transaction_id  apartment_id  exclusive_use_area  year_of_completion  \\\n",
       "count      1216553.00    1216553.00          1216553.00          1216553.00   \n",
       "mean        609153.00       6299.68               78.17             1998.30   \n",
       "std         352619.83       3581.17               29.15                8.94   \n",
       "min              0.00          0.00                9.26             1961.00   \n",
       "25%         304138.00       3345.00               59.76             1993.00   \n",
       "50%         608276.00       5964.00               82.41             1999.00   \n",
       "75%         912414.00       9436.00               84.97             2005.00   \n",
       "max        1234827.00      12658.00              424.32             2017.00   \n",
       "\n",
       "       transaction_year_month      floor  transaction_real_price  \n",
       "count              1216553.00 1216553.00              1216553.00  \n",
       "mean                201298.44       9.34                38227.69  \n",
       "std                    290.57       6.61                31048.98  \n",
       "min                 200801.00      -4.00                  100.00  \n",
       "25%                 201010.00       4.00                19000.00  \n",
       "50%                 201312.00       8.00                30900.00  \n",
       "75%                 201511.00      13.00                47000.00  \n",
       "max                 201711.00      80.00               820000.00  "
      ]
     },
     "execution_count": 5,
     "metadata": {},
     "output_type": "execute_result"
    }
   ],
   "source": [
    "# check descriptive statistics\n",
    "train.describe()"
   ]
  },
  {
   "cell_type": "code",
   "execution_count": 6,
   "metadata": {},
   "outputs": [
    {
     "name": "stdout",
     "output_type": "stream",
     "text": [
      "Date ranges from 200801 to 201711\n"
     ]
    }
   ],
   "source": [
    "# check the start and the end date\n",
    "print('Date ranges from {} to {}'.format(min(train['transaction_year_month']),max(train['transaction_year_month'])))"
   ]
  },
  {
   "cell_type": "code",
   "execution_count": 7,
   "metadata": {},
   "outputs": [
    {
     "data": {
      "text/plain": [
       "array([[<matplotlib.axes._subplots.AxesSubplot object at 0x000001B1182514F0>,\n",
       "        <matplotlib.axes._subplots.AxesSubplot object at 0x000001B1182EB9A0>],\n",
       "       [<matplotlib.axes._subplots.AxesSubplot object at 0x000001B118A0BDF0>,\n",
       "        <matplotlib.axes._subplots.AxesSubplot object at 0x000001B11C8B32B0>],\n",
       "       [<matplotlib.axes._subplots.AxesSubplot object at 0x000001B11C8DE700>,\n",
       "        <matplotlib.axes._subplots.AxesSubplot object at 0x000001B1260CABB0>]],\n",
       "      dtype=object)"
      ]
     },
     "execution_count": 7,
     "metadata": {},
     "output_type": "execute_result"
    },
    {
     "data": {
      "image/png": "[encoded data removed]",
      "text/plain": [
       "<Figure size 720x720 with 6 Axes>"
      ]
     },
     "metadata": {
      "needs_background": "light"
     },
     "output_type": "display_data"
    }
   ],
   "source": [
    "# histogram\n",
    "train.drop(['apartment_id','transaction_id'],axis=1).hist(bins=100, figsize=(10,10))"
   ]
  },
  {
   "cell_type": "code",
   "execution_count": 8,
   "metadata": {},
   "outputs": [
    {
     "data": {
      "text/plain": [
       "transaction_real_price   1.00\n",
       "exclusive_use_area       0.56\n",
       "transaction_year_month   0.18\n",
       "floor                    0.11\n",
       "year_of_completion       0.05\n",
       "Name: transaction_real_price, dtype: float64"
      ]
     },
     "execution_count": 8,
     "metadata": {},
     "output_type": "execute_result"
    }
   ],
   "source": [
    "# correlations\n",
    "train.drop(['apartment_id','transaction_id'],axis=1).corr()['transaction_real_price'].sort_values(ascending=False)"
   ]
  },
  {
   "cell_type": "code",
   "execution_count": 9,
   "metadata": {},
   "outputs": [
    {
     "data": {
      "text/plain": [
       "<matplotlib.axes._subplots.AxesSubplot at 0x1b1261296a0>"
      ]
     },
     "execution_count": 9,
     "metadata": {},
     "output_type": "execute_result"
    },
    {
     "data": {
      "image/png": "[encoded data removed]",
      "text/plain": [
       "<Figure size 432x288 with 1 Axes>"
      ]
     },
     "metadata": {
      "needs_background": "light"
     },
     "output_type": "display_data"
    }
   ],
   "source": [
    "# transaction_real_price & exclusive_use_area plot\n",
    "train.plot(kind='scatter', x='exclusive_use_area', y='transaction_real_price', alpha=0.1)"
   ]
  },
  {
   "cell_type": "markdown",
   "metadata": {},
   "source": [
    "**Things to needed to be done later - TRAIN** <br>\n",
    "1. Can 'floor' be minus? It is not totally weird to find the second basement level in apartments in South Korea. Yet is it possible to have the fourth basement level unless it is not a parking lot? (Yes, we do have a parking lot at the basement level.) Need to check up.\n",
    "2. Need to split 'transaction_year_month' to year and month columns respectively.\n",
    "3. Need to categorize transaction_date \n",
    "4. Need to proceed one-hot encoding on 'city', 'dong', 'apt', 'year', 'month', 'date'.\n",
    "5. Cutting out outliers\n"
   ]
  },
  {
   "cell_type": "markdown",
   "metadata": {},
   "source": [
    "#### (2) test"
   ]
  },
  {
   "cell_type": "code",
   "execution_count": 10,
   "metadata": {},
   "outputs": [
    {
     "data": {
      "text/html": [
       "<div>\n",
       "<style scoped>\n",
       "    .dataframe tbody tr th:only-of-type {\n",
       "        vertical-align: middle;\n",
       "    }\n",
       "\n",
       "    .dataframe tbody tr th {\n",
       "        vertical-align: top;\n",
       "    }\n",
       "\n",
       "    .dataframe thead th {\n",
       "        text-align: right;\n",
       "    }\n",
       "</style>\n",
       "<table border=\"1\" class=\"dataframe\">\n",
       "  <thead>\n",
       "    <tr style=\"text-align: right;\">\n",
       "      <th></th>\n",
       "      <th>transaction_id</th>\n",
       "      <th>apartment_id</th>\n",
       "      <th>city</th>\n",
       "      <th>dong</th>\n",
       "      <th>jibun</th>\n",
       "      <th>apt</th>\n",
       "      <th>addr_kr</th>\n",
       "      <th>exclusive_use_area</th>\n",
       "      <th>year_of_completion</th>\n",
       "      <th>transaction_year_month</th>\n",
       "      <th>transaction_date</th>\n",
       "      <th>floor</th>\n",
       "    </tr>\n",
       "  </thead>\n",
       "  <tbody>\n",
       "    <tr>\n",
       "      <th>0</th>\n",
       "      <td>1145756</td>\n",
       "      <td>10453</td>\n",
       "      <td>서울특별시</td>\n",
       "      <td>목동</td>\n",
       "      <td>938</td>\n",
       "      <td>청학</td>\n",
       "      <td>목동 938 청학</td>\n",
       "      <td>35.55</td>\n",
       "      <td>2002</td>\n",
       "      <td>201711</td>\n",
       "      <td>11~20</td>\n",
       "      <td>2</td>\n",
       "    </tr>\n",
       "    <tr>\n",
       "      <th>1</th>\n",
       "      <td>1198704</td>\n",
       "      <td>989</td>\n",
       "      <td>부산광역시</td>\n",
       "      <td>초량동</td>\n",
       "      <td>1143-8</td>\n",
       "      <td>고관맨션</td>\n",
       "      <td>초량동 1143-8 고관맨션</td>\n",
       "      <td>68.72</td>\n",
       "      <td>1977</td>\n",
       "      <td>201708</td>\n",
       "      <td>21~31</td>\n",
       "      <td>2</td>\n",
       "    </tr>\n",
       "    <tr>\n",
       "      <th>2</th>\n",
       "      <td>1222384</td>\n",
       "      <td>8597</td>\n",
       "      <td>부산광역시</td>\n",
       "      <td>괴정동</td>\n",
       "      <td>447-13</td>\n",
       "      <td>우림그린</td>\n",
       "      <td>괴정동 447-13 우림그린</td>\n",
       "      <td>72.54</td>\n",
       "      <td>1989</td>\n",
       "      <td>201710</td>\n",
       "      <td>11~20</td>\n",
       "      <td>2</td>\n",
       "    </tr>\n",
       "    <tr>\n",
       "      <th>3</th>\n",
       "      <td>1179897</td>\n",
       "      <td>11086</td>\n",
       "      <td>서울특별시</td>\n",
       "      <td>대치동</td>\n",
       "      <td>1007-2</td>\n",
       "      <td>풍림아이원4차(1007-2)</td>\n",
       "      <td>대치동 1007-2 풍림아이원4차(1007-2)</td>\n",
       "      <td>111.54</td>\n",
       "      <td>2004</td>\n",
       "      <td>201707</td>\n",
       "      <td>1~10</td>\n",
       "      <td>10</td>\n",
       "    </tr>\n",
       "    <tr>\n",
       "      <th>4</th>\n",
       "      <td>1223091</td>\n",
       "      <td>2121</td>\n",
       "      <td>부산광역시</td>\n",
       "      <td>다대동</td>\n",
       "      <td>1670</td>\n",
       "      <td>다대롯데캐슬블루</td>\n",
       "      <td>다대동 1670 다대롯데캐슬블루</td>\n",
       "      <td>119.64</td>\n",
       "      <td>2014</td>\n",
       "      <td>201712</td>\n",
       "      <td>11~20</td>\n",
       "      <td>21</td>\n",
       "    </tr>\n",
       "  </tbody>\n",
       "</table>\n",
       "</div>"
      ],
      "text/plain": [
       "   transaction_id  apartment_id   city dong   jibun              apt  \\\n",
       "0         1145756         10453  서울특별시   목동     938               청학   \n",
       "1         1198704           989  부산광역시  초량동  1143-8             고관맨션   \n",
       "2         1222384          8597  부산광역시  괴정동  447-13             우림그린   \n",
       "3         1179897         11086  서울특별시  대치동  1007-2  풍림아이원4차(1007-2)   \n",
       "4         1223091          2121  부산광역시  다대동    1670         다대롯데캐슬블루   \n",
       "\n",
       "                      addr_kr  exclusive_use_area  year_of_completion  \\\n",
       "0                   목동 938 청학               35.55                2002   \n",
       "1             초량동 1143-8 고관맨션               68.72                1977   \n",
       "2             괴정동 447-13 우림그린               72.54                1989   \n",
       "3  대치동 1007-2 풍림아이원4차(1007-2)              111.54                2004   \n",
       "4           다대동 1670 다대롯데캐슬블루              119.64                2014   \n",
       "\n",
       "   transaction_year_month transaction_date  floor  \n",
       "0                  201711            11~20      2  \n",
       "1                  201708            21~31      2  \n",
       "2                  201710            11~20      2  \n",
       "3                  201707             1~10     10  \n",
       "4                  201712            11~20     21  "
      ]
     },
     "execution_count": 10,
     "metadata": {},
     "output_type": "execute_result"
    }
   ],
   "source": [
    "test.head()"
   ]
  },
  {
   "cell_type": "code",
   "execution_count": 11,
   "metadata": {},
   "outputs": [
    {
     "name": "stdout",
     "output_type": "stream",
     "text": [
      "<class 'pandas.core.frame.DataFrame'>\n",
      "RangeIndex: 5463 entries, 0 to 5462\n",
      "Data columns (total 12 columns):\n",
      " #   Column                  Non-Null Count  Dtype  \n",
      "---  ------                  --------------  -----  \n",
      " 0   transaction_id          5463 non-null   int64  \n",
      " 1   apartment_id            5463 non-null   int64  \n",
      " 2   city                    5463 non-null   object \n",
      " 3   dong                    5463 non-null   object \n",
      " 4   jibun                   5463 non-null   object \n",
      " 5   apt                     5463 non-null   object \n",
      " 6   addr_kr                 5463 non-null   object \n",
      " 7   exclusive_use_area      5463 non-null   float64\n",
      " 8   year_of_completion      5463 non-null   int64  \n",
      " 9   transaction_year_month  5463 non-null   int64  \n",
      " 10  transaction_date        5463 non-null   object \n",
      " 11  floor                   5463 non-null   int64  \n",
      "dtypes: float64(1), int64(5), object(6)\n",
      "memory usage: 512.3+ KB\n"
     ]
    }
   ],
   "source": [
    "# data type\n",
    "test.info()"
   ]
  },
  {
   "cell_type": "markdown",
   "metadata": {},
   "source": [
    "**Things to needed to be done later - TEST** <br>\n",
    "1. Same data without the target variable, transaction real price. \n",
    "2. Do the same things as above."
   ]
  },
  {
   "cell_type": "markdown",
   "metadata": {},
   "source": [
    "#### (3) Day Care Center"
   ]
  },
  {
   "cell_type": "code",
   "execution_count": 12,
   "metadata": {},
   "outputs": [
    {
     "data": {
      "text/html": [
       "<div>\n",
       "<style scoped>\n",
       "    .dataframe tbody tr th:only-of-type {\n",
       "        vertical-align: middle;\n",
       "    }\n",
       "\n",
       "    .dataframe tbody tr th {\n",
       "        vertical-align: top;\n",
       "    }\n",
       "\n",
       "    .dataframe thead th {\n",
       "        text-align: right;\n",
       "    }\n",
       "</style>\n",
       "<table border=\"1\" class=\"dataframe\">\n",
       "  <thead>\n",
       "    <tr style=\"text-align: right;\">\n",
       "      <th></th>\n",
       "      <th>city</th>\n",
       "      <th>gu</th>\n",
       "      <th>day_care_name</th>\n",
       "      <th>day_care_type</th>\n",
       "      <th>day_care_baby_num</th>\n",
       "      <th>teacher_num</th>\n",
       "      <th>nursing_room_num</th>\n",
       "      <th>playground_num</th>\n",
       "      <th>CCTV_num</th>\n",
       "      <th>is_commuting_vehicle</th>\n",
       "      <th>reference_date</th>\n",
       "    </tr>\n",
       "  </thead>\n",
       "  <tbody>\n",
       "    <tr>\n",
       "      <th>0</th>\n",
       "      <td>서울특별시</td>\n",
       "      <td>서대문구</td>\n",
       "      <td>가람어린이집</td>\n",
       "      <td>국공립</td>\n",
       "      <td>70</td>\n",
       "      <td>11.00</td>\n",
       "      <td>5.00</td>\n",
       "      <td>1.00</td>\n",
       "      <td>7.00</td>\n",
       "      <td>N</td>\n",
       "      <td>2018-07-31</td>\n",
       "    </tr>\n",
       "    <tr>\n",
       "      <th>1</th>\n",
       "      <td>서울특별시</td>\n",
       "      <td>서대문구</td>\n",
       "      <td>가좌제일어린이집</td>\n",
       "      <td>국공립</td>\n",
       "      <td>88</td>\n",
       "      <td>22.00</td>\n",
       "      <td>5.00</td>\n",
       "      <td>2.00</td>\n",
       "      <td>10.00</td>\n",
       "      <td>N</td>\n",
       "      <td>2018-07-31</td>\n",
       "    </tr>\n",
       "    <tr>\n",
       "      <th>2</th>\n",
       "      <td>서울특별시</td>\n",
       "      <td>서대문구</td>\n",
       "      <td>경찰청어린이집</td>\n",
       "      <td>직장</td>\n",
       "      <td>90</td>\n",
       "      <td>23.00</td>\n",
       "      <td>6.00</td>\n",
       "      <td>1.00</td>\n",
       "      <td>32.00</td>\n",
       "      <td>N</td>\n",
       "      <td>2018-07-31</td>\n",
       "    </tr>\n",
       "    <tr>\n",
       "      <th>3</th>\n",
       "      <td>서울특별시</td>\n",
       "      <td>서대문구</td>\n",
       "      <td>고운햇살어린이집</td>\n",
       "      <td>가정</td>\n",
       "      <td>18</td>\n",
       "      <td>5.00</td>\n",
       "      <td>3.00</td>\n",
       "      <td>0.00</td>\n",
       "      <td>4.00</td>\n",
       "      <td>N</td>\n",
       "      <td>2018-07-31</td>\n",
       "    </tr>\n",
       "    <tr>\n",
       "      <th>4</th>\n",
       "      <td>서울특별시</td>\n",
       "      <td>서대문구</td>\n",
       "      <td>고은어린이집</td>\n",
       "      <td>국공립</td>\n",
       "      <td>93</td>\n",
       "      <td>20.00</td>\n",
       "      <td>7.00</td>\n",
       "      <td>2.00</td>\n",
       "      <td>10.00</td>\n",
       "      <td>N</td>\n",
       "      <td>2018-07-31</td>\n",
       "    </tr>\n",
       "  </tbody>\n",
       "</table>\n",
       "</div>"
      ],
      "text/plain": [
       "    city    gu day_care_name day_care_type  day_care_baby_num  teacher_num  \\\n",
       "0  서울특별시  서대문구        가람어린이집           국공립                 70        11.00   \n",
       "1  서울특별시  서대문구      가좌제일어린이집           국공립                 88        22.00   \n",
       "2  서울특별시  서대문구       경찰청어린이집            직장                 90        23.00   \n",
       "3  서울특별시  서대문구      고운햇살어린이집            가정                 18         5.00   \n",
       "4  서울특별시  서대문구        고은어린이집           국공립                 93        20.00   \n",
       "\n",
       "   nursing_room_num  playground_num  CCTV_num is_commuting_vehicle  \\\n",
       "0              5.00            1.00      7.00                    N   \n",
       "1              5.00            2.00     10.00                    N   \n",
       "2              6.00            1.00     32.00                    N   \n",
       "3              3.00            0.00      4.00                    N   \n",
       "4              7.00            2.00     10.00                    N   \n",
       "\n",
       "  reference_date  \n",
       "0     2018-07-31  \n",
       "1     2018-07-31  \n",
       "2     2018-07-31  \n",
       "3     2018-07-31  \n",
       "4     2018-07-31  "
      ]
     },
     "execution_count": 12,
     "metadata": {},
     "output_type": "execute_result"
    }
   ],
   "source": [
    "day_care_center.head()"
   ]
  },
  {
   "cell_type": "code",
   "execution_count": 13,
   "metadata": {},
   "outputs": [
    {
     "name": "stdout",
     "output_type": "stream",
     "text": [
      "<class 'pandas.core.frame.DataFrame'>\n",
      "RangeIndex: 7551 entries, 0 to 7550\n",
      "Data columns (total 11 columns):\n",
      " #   Column                Non-Null Count  Dtype  \n",
      "---  ------                --------------  -----  \n",
      " 0   city                  7551 non-null   object \n",
      " 1   gu                    7551 non-null   object \n",
      " 2   day_care_name         7551 non-null   object \n",
      " 3   day_care_type         7551 non-null   object \n",
      " 4   day_care_baby_num     7551 non-null   int64  \n",
      " 5   teacher_num           7326 non-null   float64\n",
      " 6   nursing_room_num      4352 non-null   float64\n",
      " 7   playground_num        3626 non-null   float64\n",
      " 8   CCTV_num              5280 non-null   float64\n",
      " 9   is_commuting_vehicle  7055 non-null   object \n",
      " 10  reference_date        7551 non-null   object \n",
      "dtypes: float64(4), int64(1), object(6)\n",
      "memory usage: 649.0+ KB\n"
     ]
    }
   ],
   "source": [
    "# data type\n",
    "day_care_center.info()"
   ]
  },
  {
   "cell_type": "code",
   "execution_count": 14,
   "metadata": {},
   "outputs": [
    {
     "data": {
      "text/html": [
       "<div>\n",
       "<style scoped>\n",
       "    .dataframe tbody tr th:only-of-type {\n",
       "        vertical-align: middle;\n",
       "    }\n",
       "\n",
       "    .dataframe tbody tr th {\n",
       "        vertical-align: top;\n",
       "    }\n",
       "\n",
       "    .dataframe thead th {\n",
       "        text-align: right;\n",
       "    }\n",
       "</style>\n",
       "<table border=\"1\" class=\"dataframe\">\n",
       "  <thead>\n",
       "    <tr style=\"text-align: right;\">\n",
       "      <th></th>\n",
       "      <th>day_care_baby_num</th>\n",
       "      <th>teacher_num</th>\n",
       "      <th>nursing_room_num</th>\n",
       "      <th>playground_num</th>\n",
       "      <th>CCTV_num</th>\n",
       "    </tr>\n",
       "  </thead>\n",
       "  <tbody>\n",
       "    <tr>\n",
       "      <th>count</th>\n",
       "      <td>7551.00</td>\n",
       "      <td>7326.00</td>\n",
       "      <td>4352.00</td>\n",
       "      <td>3626.00</td>\n",
       "      <td>5280.00</td>\n",
       "    </tr>\n",
       "    <tr>\n",
       "      <th>mean</th>\n",
       "      <td>44.40</td>\n",
       "      <td>9.01</td>\n",
       "      <td>4.53</td>\n",
       "      <td>0.40</td>\n",
       "      <td>6.68</td>\n",
       "    </tr>\n",
       "    <tr>\n",
       "      <th>std</th>\n",
       "      <td>37.02</td>\n",
       "      <td>5.81</td>\n",
       "      <td>2.08</td>\n",
       "      <td>0.73</td>\n",
       "      <td>4.48</td>\n",
       "    </tr>\n",
       "    <tr>\n",
       "      <th>min</th>\n",
       "      <td>5.00</td>\n",
       "      <td>0.00</td>\n",
       "      <td>0.00</td>\n",
       "      <td>0.00</td>\n",
       "      <td>0.00</td>\n",
       "    </tr>\n",
       "    <tr>\n",
       "      <th>25%</th>\n",
       "      <td>19.00</td>\n",
       "      <td>6.00</td>\n",
       "      <td>3.00</td>\n",
       "      <td>0.00</td>\n",
       "      <td>4.00</td>\n",
       "    </tr>\n",
       "    <tr>\n",
       "      <th>50%</th>\n",
       "      <td>29.00</td>\n",
       "      <td>7.00</td>\n",
       "      <td>4.00</td>\n",
       "      <td>0.00</td>\n",
       "      <td>5.00</td>\n",
       "    </tr>\n",
       "    <tr>\n",
       "      <th>75%</th>\n",
       "      <td>60.00</td>\n",
       "      <td>11.00</td>\n",
       "      <td>5.00</td>\n",
       "      <td>1.00</td>\n",
       "      <td>8.00</td>\n",
       "    </tr>\n",
       "    <tr>\n",
       "      <th>max</th>\n",
       "      <td>489.00</td>\n",
       "      <td>98.00</td>\n",
       "      <td>22.00</td>\n",
       "      <td>16.00</td>\n",
       "      <td>53.00</td>\n",
       "    </tr>\n",
       "  </tbody>\n",
       "</table>\n",
       "</div>"
      ],
      "text/plain": [
       "       day_care_baby_num  teacher_num  nursing_room_num  playground_num  \\\n",
       "count            7551.00      7326.00           4352.00         3626.00   \n",
       "mean               44.40         9.01              4.53            0.40   \n",
       "std                37.02         5.81              2.08            0.73   \n",
       "min                 5.00         0.00              0.00            0.00   \n",
       "25%                19.00         6.00              3.00            0.00   \n",
       "50%                29.00         7.00              4.00            0.00   \n",
       "75%                60.00        11.00              5.00            1.00   \n",
       "max               489.00        98.00             22.00           16.00   \n",
       "\n",
       "       CCTV_num  \n",
       "count   5280.00  \n",
       "mean       6.68  \n",
       "std        4.48  \n",
       "min        0.00  \n",
       "25%        4.00  \n",
       "50%        5.00  \n",
       "75%        8.00  \n",
       "max       53.00  "
      ]
     },
     "execution_count": 14,
     "metadata": {},
     "output_type": "execute_result"
    }
   ],
   "source": [
    "# descriptive statistics\n",
    "day_care_center.describe()"
   ]
  },
  {
   "cell_type": "code",
   "execution_count": 15,
   "metadata": {},
   "outputs": [
    {
     "data": {
      "text/plain": [
       "playground_num          3925\n",
       "nursing_room_num        3199\n",
       "CCTV_num                2271\n",
       "is_commuting_vehicle     496\n",
       "teacher_num              225\n",
       "dtype: int64"
      ]
     },
     "execution_count": 15,
     "metadata": {},
     "output_type": "execute_result"
    }
   ],
   "source": [
    "# missing values\n",
    "day_care_center.isnull().sum().sort_values(ascending=False).head(5)"
   ]
  },
  {
   "cell_type": "code",
   "execution_count": 16,
   "metadata": {},
   "outputs": [
    {
     "data": {
      "text/plain": [
       "가정        3120\n",
       "민간        2492\n",
       "국공립       1408\n",
       "직장         272\n",
       "법인·단체      113\n",
       "사회복지법인     107\n",
       "협동          39\n",
       "Name: day_care_type, dtype: int64"
      ]
     },
     "execution_count": 16,
     "metadata": {},
     "output_type": "execute_result"
    }
   ],
   "source": [
    "# day care center type\n",
    "day_care_center['day_care_type'].value_counts()"
   ]
  },
  {
   "cell_type": "markdown",
   "metadata": {},
   "source": [
    "**Things to needed to be done later - Day Care Center** <br>\n",
    "1. Create a new column 'day care babies per teacher' by dividing day_care_babies by day_care_teachers and drop two columns.\n",
    "2. Do One-hot encodings on columns.\n",
    "3. Create a new column 'unit number of day care center' by dividing total number of day care centers in each gu by corresponding gu area. Will concat this column to other datasets later.\n",
    "4. Convert columns to the correct data types. \n"
   ]
  },
  {
   "cell_type": "markdown",
   "metadata": {},
   "source": [
    "#### (4) Park"
   ]
  },
  {
   "cell_type": "code",
   "execution_count": 17,
   "metadata": {},
   "outputs": [
    {
     "data": {
      "text/html": [
       "<div>\n",
       "<style scoped>\n",
       "    .dataframe tbody tr th:only-of-type {\n",
       "        vertical-align: middle;\n",
       "    }\n",
       "\n",
       "    .dataframe tbody tr th {\n",
       "        vertical-align: top;\n",
       "    }\n",
       "\n",
       "    .dataframe thead th {\n",
       "        text-align: right;\n",
       "    }\n",
       "</style>\n",
       "<table border=\"1\" class=\"dataframe\">\n",
       "  <thead>\n",
       "    <tr style=\"text-align: right;\">\n",
       "      <th></th>\n",
       "      <th>city</th>\n",
       "      <th>gu</th>\n",
       "      <th>dong</th>\n",
       "      <th>park_name</th>\n",
       "      <th>park_type</th>\n",
       "      <th>park_area</th>\n",
       "      <th>park_exercise_facility</th>\n",
       "      <th>park_entertainment_facility</th>\n",
       "      <th>park_benefit_facility</th>\n",
       "      <th>park_cultural_facitiy</th>\n",
       "      <th>park_facility_other</th>\n",
       "      <th>park_open_year</th>\n",
       "      <th>reference_date</th>\n",
       "    </tr>\n",
       "  </thead>\n",
       "  <tbody>\n",
       "    <tr>\n",
       "      <th>0</th>\n",
       "      <td>부산광역시</td>\n",
       "      <td>남구</td>\n",
       "      <td>대연동</td>\n",
       "      <td>대연공원</td>\n",
       "      <td>근린공원</td>\n",
       "      <td>55227.00</td>\n",
       "      <td>NaN</td>\n",
       "      <td>NaN</td>\n",
       "      <td>NaN</td>\n",
       "      <td>NaN</td>\n",
       "      <td>NaN</td>\n",
       "      <td>1944.00</td>\n",
       "      <td>2018-08-14</td>\n",
       "    </tr>\n",
       "    <tr>\n",
       "      <th>1</th>\n",
       "      <td>부산광역시</td>\n",
       "      <td>남구</td>\n",
       "      <td>대연동</td>\n",
       "      <td>당곡공원</td>\n",
       "      <td>역사공원</td>\n",
       "      <td>75465.00</td>\n",
       "      <td>NaN</td>\n",
       "      <td>NaN</td>\n",
       "      <td>NaN</td>\n",
       "      <td>NaN</td>\n",
       "      <td>NaN</td>\n",
       "      <td>1944.00</td>\n",
       "      <td>2018-08-14</td>\n",
       "    </tr>\n",
       "    <tr>\n",
       "      <th>2</th>\n",
       "      <td>부산광역시</td>\n",
       "      <td>남구</td>\n",
       "      <td>대연동</td>\n",
       "      <td>대일어린이공원</td>\n",
       "      <td>어린이공원</td>\n",
       "      <td>422.10</td>\n",
       "      <td>NaN</td>\n",
       "      <td>NaN</td>\n",
       "      <td>NaN</td>\n",
       "      <td>NaN</td>\n",
       "      <td>NaN</td>\n",
       "      <td>1965.00</td>\n",
       "      <td>2018-08-14</td>\n",
       "    </tr>\n",
       "    <tr>\n",
       "      <th>3</th>\n",
       "      <td>부산광역시</td>\n",
       "      <td>남구</td>\n",
       "      <td>대연동</td>\n",
       "      <td>못골어린이공원</td>\n",
       "      <td>어린이공원</td>\n",
       "      <td>499.80</td>\n",
       "      <td>NaN</td>\n",
       "      <td>NaN</td>\n",
       "      <td>NaN</td>\n",
       "      <td>NaN</td>\n",
       "      <td>NaN</td>\n",
       "      <td>1968.00</td>\n",
       "      <td>2018-08-14</td>\n",
       "    </tr>\n",
       "    <tr>\n",
       "      <th>4</th>\n",
       "      <td>부산광역시</td>\n",
       "      <td>남구</td>\n",
       "      <td>용호동</td>\n",
       "      <td>솔밭어린이공원</td>\n",
       "      <td>어린이공원</td>\n",
       "      <td>1500.20</td>\n",
       "      <td>NaN</td>\n",
       "      <td>NaN</td>\n",
       "      <td>NaN</td>\n",
       "      <td>NaN</td>\n",
       "      <td>NaN</td>\n",
       "      <td>1970.00</td>\n",
       "      <td>2018-08-14</td>\n",
       "    </tr>\n",
       "  </tbody>\n",
       "</table>\n",
       "</div>"
      ],
      "text/plain": [
       "    city  gu dong park_name park_type  park_area park_exercise_facility  \\\n",
       "0  부산광역시  남구  대연동      대연공원      근린공원   55227.00                    NaN   \n",
       "1  부산광역시  남구  대연동      당곡공원      역사공원   75465.00                    NaN   \n",
       "2  부산광역시  남구  대연동   대일어린이공원     어린이공원     422.10                    NaN   \n",
       "3  부산광역시  남구  대연동   못골어린이공원     어린이공원     499.80                    NaN   \n",
       "4  부산광역시  남구  용호동   솔밭어린이공원     어린이공원    1500.20                    NaN   \n",
       "\n",
       "  park_entertainment_facility park_benefit_facility park_cultural_facitiy  \\\n",
       "0                         NaN                   NaN                   NaN   \n",
       "1                         NaN                   NaN                   NaN   \n",
       "2                         NaN                   NaN                   NaN   \n",
       "3                         NaN                   NaN                   NaN   \n",
       "4                         NaN                   NaN                   NaN   \n",
       "\n",
       "  park_facility_other  park_open_year reference_date  \n",
       "0                 NaN         1944.00     2018-08-14  \n",
       "1                 NaN         1944.00     2018-08-14  \n",
       "2                 NaN         1965.00     2018-08-14  \n",
       "3                 NaN         1968.00     2018-08-14  \n",
       "4                 NaN         1970.00     2018-08-14  "
      ]
     },
     "execution_count": 17,
     "metadata": {},
     "output_type": "execute_result"
    }
   ],
   "source": [
    "park.head()"
   ]
  },
  {
   "cell_type": "code",
   "execution_count": 18,
   "metadata": {},
   "outputs": [
    {
     "name": "stdout",
     "output_type": "stream",
     "text": [
      "<class 'pandas.core.frame.DataFrame'>\n",
      "RangeIndex: 1359 entries, 0 to 1358\n",
      "Data columns (total 13 columns):\n",
      " #   Column                       Non-Null Count  Dtype  \n",
      "---  ------                       --------------  -----  \n",
      " 0   city                         1359 non-null   object \n",
      " 1   gu                           1356 non-null   object \n",
      " 2   dong                         1359 non-null   object \n",
      " 3   park_name                    1359 non-null   object \n",
      " 4   park_type                    1359 non-null   object \n",
      " 5   park_area                    1359 non-null   float64\n",
      " 6   park_exercise_facility       277 non-null    object \n",
      " 7   park_entertainment_facility  435 non-null    object \n",
      " 8   park_benefit_facility        266 non-null    object \n",
      " 9   park_cultural_facitiy        72 non-null     object \n",
      " 10  park_facility_other          175 non-null    object \n",
      " 11  park_open_year               937 non-null    float64\n",
      " 12  reference_date               1359 non-null   object \n",
      "dtypes: float64(2), object(11)\n",
      "memory usage: 138.1+ KB\n"
     ]
    }
   ],
   "source": [
    "# data type\n",
    "park.info()"
   ]
  },
  {
   "cell_type": "code",
   "execution_count": 19,
   "metadata": {},
   "outputs": [
    {
     "data": {
      "text/plain": [
       "park_cultural_facitiy          1287\n",
       "park_facility_other            1184\n",
       "park_benefit_facility          1093\n",
       "park_exercise_facility         1082\n",
       "park_entertainment_facility     924\n",
       "park_open_year                  422\n",
       "gu                                3\n",
       "reference_date                    0\n",
       "park_area                         0\n",
       "park_type                         0\n",
       "park_name                         0\n",
       "dong                              0\n",
       "city                              0\n",
       "dtype: int64"
      ]
     },
     "execution_count": 19,
     "metadata": {},
     "output_type": "execute_result"
    }
   ],
   "source": [
    "# missing values\n",
    "park.isnull().sum().sort_values(ascending=False)"
   ]
  },
  {
   "cell_type": "code",
   "execution_count": 20,
   "metadata": {},
   "outputs": [
    {
     "data": {
      "text/html": [
       "<div>\n",
       "<style scoped>\n",
       "    .dataframe tbody tr th:only-of-type {\n",
       "        vertical-align: middle;\n",
       "    }\n",
       "\n",
       "    .dataframe tbody tr th {\n",
       "        vertical-align: top;\n",
       "    }\n",
       "\n",
       "    .dataframe thead th {\n",
       "        text-align: right;\n",
       "    }\n",
       "</style>\n",
       "<table border=\"1\" class=\"dataframe\">\n",
       "  <thead>\n",
       "    <tr style=\"text-align: right;\">\n",
       "      <th></th>\n",
       "      <th>park_area</th>\n",
       "      <th>park_open_year</th>\n",
       "    </tr>\n",
       "  </thead>\n",
       "  <tbody>\n",
       "    <tr>\n",
       "      <th>count</th>\n",
       "      <td>1359.00</td>\n",
       "      <td>937.00</td>\n",
       "    </tr>\n",
       "    <tr>\n",
       "      <th>mean</th>\n",
       "      <td>58862.55</td>\n",
       "      <td>1990.15</td>\n",
       "    </tr>\n",
       "    <tr>\n",
       "      <th>std</th>\n",
       "      <td>386805.21</td>\n",
       "      <td>17.66</td>\n",
       "    </tr>\n",
       "    <tr>\n",
       "      <th>min</th>\n",
       "      <td>22.00</td>\n",
       "      <td>1938.00</td>\n",
       "    </tr>\n",
       "    <tr>\n",
       "      <th>25%</th>\n",
       "      <td>1050.25</td>\n",
       "      <td>1977.00</td>\n",
       "    </tr>\n",
       "    <tr>\n",
       "      <th>50%</th>\n",
       "      <td>1680.00</td>\n",
       "      <td>1992.00</td>\n",
       "    </tr>\n",
       "    <tr>\n",
       "      <th>75%</th>\n",
       "      <td>6609.60</td>\n",
       "      <td>2006.00</td>\n",
       "    </tr>\n",
       "    <tr>\n",
       "      <th>max</th>\n",
       "      <td>6692795.00</td>\n",
       "      <td>2018.00</td>\n",
       "    </tr>\n",
       "  </tbody>\n",
       "</table>\n",
       "</div>"
      ],
      "text/plain": [
       "       park_area  park_open_year\n",
       "count    1359.00          937.00\n",
       "mean    58862.55         1990.15\n",
       "std    386805.21           17.66\n",
       "min        22.00         1938.00\n",
       "25%      1050.25         1977.00\n",
       "50%      1680.00         1992.00\n",
       "75%      6609.60         2006.00\n",
       "max   6692795.00         2018.00"
      ]
     },
     "execution_count": 20,
     "metadata": {},
     "output_type": "execute_result"
    }
   ],
   "source": [
    "# descriptive statistics\n",
    "park.describe()"
   ]
  },
  {
   "cell_type": "code",
   "execution_count": 21,
   "metadata": {},
   "outputs": [
    {
     "data": {
      "text/plain": [
       "array([nan, '문화회관', '무대', '청소년수련원', '홍릉수목원', '도서관', '독서실', '정보화도서관',\n",
       "       '야외공연장', '없음', '야외무대 장기바둑쉼터 놀이마당',\n",
       "       '\"도서관, 기념비, 충혼탑, 장건상동상, 대한해협전승비, 자연보호헌장, 시민헌장, 충무공이순신영묘비, 노인헌장비, 구덕민속예술관및놀이마당, 기념관, 광복기념관, 청소년수련시설, 최천택기념비, 민주공원표지석, 중앙공원 표지석, 6·25호국유공자기념비, 사적시설, 생태학습원\"',\n",
       "       '\"동물원시설, 어린이회관, 학생수련회야영장, 반공전시관, 전시관, 위인탑, 교육문화회관, 박재혁동상, 헌칠학병기념비, 이수현추모비, 어린이교통안전교육장, 부산항일학생의거기념비, 정상구시비, 고태국음악비, 금연테마동산, 상징조형물, 생태학습장, 숲체험학습센터, 소녀상, 6.25참전용사기념비, 100대 명수 기념비\"',\n",
       "       '\"해양자연사박물관, 도서관, 민속예술관, 고분, 기념비및사적, 소방안전체험관, 박물관, 어린이직업체험관\"',\n",
       "       '야외무대1', '기타4', '\"문화회관1, 야외음악당1\"', '기타1', '\"문화회관2, 야외음악당1, 기타3\"',\n",
       "       '도서관1', '기타23', '기타2', '\"도서관1, 금암기적비1\"', '\"동상1, 탑기념비2\"',\n",
       "       '야외음악당 1개소', '문화회관 1개소',\n",
       "       '\"독립관 1동, 3.1운동기념탑 1기, 순국선열추념탑 1기, 독립문 1기, 서재필동상 1기, 독립문이전비 1기, 정보도서관 1동\"',\n",
       "       '-', '충렬사', '구덕민속예술관', '미조성', '동상, 탑기념비', '도서관 1개소, 문화회관 1개소',\n",
       "       '도서관 1개소'], dtype=object)"
      ]
     },
     "execution_count": 21,
     "metadata": {},
     "output_type": "execute_result"
    }
   ],
   "source": [
    "# check missing values - park_cultural_facility\n",
    "park.park_cultural_facitiy.unique()"
   ]
  },
  {
   "cell_type": "markdown",
   "metadata": {},
   "source": [
    "**Things to needed to be done later - PARK** <br>\n",
    "1. Need to fill three missing gu. \n",
    "2. Need to deal with missing values in each column\n",
    "3. Do One-hot encodings on columns.\n",
    "4. Convert columns to the correct data types. \n",
    "5. Cutting out outliers "
   ]
  },
  {
   "cell_type": "code",
   "execution_count": 22,
   "metadata": {},
   "outputs": [
    {
     "name": "stdout",
     "output_type": "stream",
     "text": [
      "<class 'pandas.core.frame.DataFrame'>\n",
      "RangeIndex: 1216553 entries, 0 to 1216552\n",
      "Data columns (total 13 columns):\n",
      " #   Column                  Non-Null Count    Dtype  \n",
      "---  ------                  --------------    -----  \n",
      " 0   transaction_id          1216553 non-null  int64  \n",
      " 1   apartment_id            1216553 non-null  int64  \n",
      " 2   city                    1216553 non-null  object \n",
      " 3   dong                    1216553 non-null  object \n",
      " 4   jibun                   1216553 non-null  object \n",
      " 5   apt                     1216553 non-null  object \n",
      " 6   addr_kr                 1216553 non-null  object \n",
      " 7   exclusive_use_area      1216553 non-null  float64\n",
      " 8   year_of_completion      1216553 non-null  int64  \n",
      " 9   transaction_year_month  1216553 non-null  int64  \n",
      " 10  transaction_date        1216553 non-null  object \n",
      " 11  floor                   1216553 non-null  int64  \n",
      " 12  transaction_real_price  1216553 non-null  int64  \n",
      "dtypes: float64(1), int64(6), object(6)\n",
      "memory usage: 120.7+ MB\n"
     ]
    }
   ],
   "source": [
    "train.info()"
   ]
  },
  {
   "cell_type": "markdown",
   "metadata": {},
   "source": [
    "## Feature Engineering \n",
    "\n",
    "#### (1) train and test"
   ]
  },
  {
   "cell_type": "code",
   "execution_count": 23,
   "metadata": {},
   "outputs": [
    {
     "data": {
      "text/plain": [
       "-1    142\n",
       "-2     17\n",
       "-3      7\n",
       "-4      4\n",
       "Name: floor, dtype: int64"
      ]
     },
     "execution_count": 23,
     "metadata": {},
     "output_type": "execute_result"
    }
   ],
   "source": [
    "# 1. Can 'floor' be minus or 80?\n",
    "# total 170 observations in a merged dataset. \n",
    "merged_df = train.drop('transaction_real_price',axis=1).append(test)\n",
    "merged_df[merged_df['floor']<0]['floor'].value_counts()"
   ]
  },
  {
   "cell_type": "code",
   "execution_count": 24,
   "metadata": {},
   "outputs": [
    {
     "name": "stdout",
     "output_type": "stream",
     "text": [
      "# of rows with -1 levels: 142\n"
     ]
    },
    {
     "data": {
      "text/html": [
       "<div>\n",
       "<style scoped>\n",
       "    .dataframe tbody tr th:only-of-type {\n",
       "        vertical-align: middle;\n",
       "    }\n",
       "\n",
       "    .dataframe tbody tr th {\n",
       "        vertical-align: top;\n",
       "    }\n",
       "\n",
       "    .dataframe thead th {\n",
       "        text-align: right;\n",
       "    }\n",
       "</style>\n",
       "<table border=\"1\" class=\"dataframe\">\n",
       "  <thead>\n",
       "    <tr style=\"text-align: right;\">\n",
       "      <th></th>\n",
       "      <th>apt_name</th>\n",
       "    </tr>\n",
       "  </thead>\n",
       "  <tbody>\n",
       "    <tr>\n",
       "      <th>0</th>\n",
       "      <td>렉스팰리스</td>\n",
       "    </tr>\n",
       "    <tr>\n",
       "      <th>1</th>\n",
       "      <td>도시그린빌라트18차</td>\n",
       "    </tr>\n",
       "    <tr>\n",
       "      <th>2</th>\n",
       "      <td>(1-102)</td>\n",
       "    </tr>\n",
       "    <tr>\n",
       "      <th>3</th>\n",
       "      <td>우석</td>\n",
       "    </tr>\n",
       "    <tr>\n",
       "      <th>4</th>\n",
       "      <td>유정</td>\n",
       "    </tr>\n",
       "    <tr>\n",
       "      <th>...</th>\n",
       "      <td>...</td>\n",
       "    </tr>\n",
       "    <tr>\n",
       "      <th>71</th>\n",
       "      <td>동부썬빌라</td>\n",
       "    </tr>\n",
       "    <tr>\n",
       "      <th>72</th>\n",
       "      <td>태평양프린스</td>\n",
       "    </tr>\n",
       "    <tr>\n",
       "      <th>73</th>\n",
       "      <td>한강빌라</td>\n",
       "    </tr>\n",
       "    <tr>\n",
       "      <th>74</th>\n",
       "      <td>강변</td>\n",
       "    </tr>\n",
       "    <tr>\n",
       "      <th>75</th>\n",
       "      <td>신서면</td>\n",
       "    </tr>\n",
       "  </tbody>\n",
       "</table>\n",
       "<p>76 rows × 1 columns</p>\n",
       "</div>"
      ],
      "text/plain": [
       "      apt_name\n",
       "0        렉스팰리스\n",
       "1   도시그린빌라트18차\n",
       "2      (1-102)\n",
       "3           우석\n",
       "4           유정\n",
       "..         ...\n",
       "71       동부썬빌라\n",
       "72      태평양프린스\n",
       "73        한강빌라\n",
       "74          강변\n",
       "75         신서면\n",
       "\n",
       "[76 rows x 1 columns]"
      ]
     },
     "execution_count": 24,
     "metadata": {},
     "output_type": "execute_result"
    }
   ],
   "source": [
    "print('# of rows with -1 levels: {}'.format(merged_df[merged_df['floor']==-1]['floor'].count()))\n",
    "pd.DataFrame(merged_df[merged_df['floor']==-1]['apt'].unique(), columns=['apt_name'])"
   ]
  },
  {
   "cell_type": "markdown",
   "metadata": {},
   "source": [
    "![minus one](./img/example1.jpg)"
   ]
  },
  {
   "cell_type": "code",
   "execution_count": 25,
   "metadata": {},
   "outputs": [
    {
     "name": "stdout",
     "output_type": "stream",
     "text": [
      "# of rows with -2 levels: 17\n"
     ]
    },
    {
     "data": {
      "text/html": [
       "<div>\n",
       "<style scoped>\n",
       "    .dataframe tbody tr th:only-of-type {\n",
       "        vertical-align: middle;\n",
       "    }\n",
       "\n",
       "    .dataframe tbody tr th {\n",
       "        vertical-align: top;\n",
       "    }\n",
       "\n",
       "    .dataframe thead th {\n",
       "        text-align: right;\n",
       "    }\n",
       "</style>\n",
       "<table border=\"1\" class=\"dataframe\">\n",
       "  <thead>\n",
       "    <tr style=\"text-align: right;\">\n",
       "      <th></th>\n",
       "      <th>apt_name</th>\n",
       "    </tr>\n",
       "  </thead>\n",
       "  <tbody>\n",
       "    <tr>\n",
       "      <th>0</th>\n",
       "      <td>한남더힐</td>\n",
       "    </tr>\n",
       "    <tr>\n",
       "      <th>1</th>\n",
       "      <td>은평뉴타운 우물골(두산위브7단지)</td>\n",
       "    </tr>\n",
       "    <tr>\n",
       "      <th>2</th>\n",
       "      <td>천왕연지타운2단지</td>\n",
       "    </tr>\n",
       "    <tr>\n",
       "      <th>3</th>\n",
       "      <td>동광맨션</td>\n",
       "    </tr>\n",
       "  </tbody>\n",
       "</table>\n",
       "</div>"
      ],
      "text/plain": [
       "             apt_name\n",
       "0                한남더힐\n",
       "1  은평뉴타운 우물골(두산위브7단지)\n",
       "2           천왕연지타운2단지\n",
       "3                동광맨션"
      ]
     },
     "execution_count": 25,
     "metadata": {},
     "output_type": "execute_result"
    }
   ],
   "source": [
    "print('# of rows with -2 levels: {}'.format(merged_df[merged_df['floor']==-2]['floor'].count()))\n",
    "pd.DataFrame(merged_df[merged_df['floor']==-2]['apt'].unique(), columns=['apt_name'])"
   ]
  },
  {
   "cell_type": "markdown",
   "metadata": {},
   "source": [
    "![minus two](./img/example2.jpg)"
   ]
  },
  {
   "cell_type": "code",
   "execution_count": 26,
   "metadata": {},
   "outputs": [
    {
     "name": "stdout",
     "output_type": "stream",
     "text": [
      "# of rows with -3 levels: 7\n"
     ]
    },
    {
     "data": {
      "text/html": [
       "<div>\n",
       "<style scoped>\n",
       "    .dataframe tbody tr th:only-of-type {\n",
       "        vertical-align: middle;\n",
       "    }\n",
       "\n",
       "    .dataframe tbody tr th {\n",
       "        vertical-align: top;\n",
       "    }\n",
       "\n",
       "    .dataframe thead th {\n",
       "        text-align: right;\n",
       "    }\n",
       "</style>\n",
       "<table border=\"1\" class=\"dataframe\">\n",
       "  <thead>\n",
       "    <tr style=\"text-align: right;\">\n",
       "      <th></th>\n",
       "      <th>apt_name</th>\n",
       "    </tr>\n",
       "  </thead>\n",
       "  <tbody>\n",
       "    <tr>\n",
       "      <th>0</th>\n",
       "      <td>은평뉴타운 우물골(두산위브7단지)</td>\n",
       "    </tr>\n",
       "  </tbody>\n",
       "</table>\n",
       "</div>"
      ],
      "text/plain": [
       "             apt_name\n",
       "0  은평뉴타운 우물골(두산위브7단지)"
      ]
     },
     "execution_count": 26,
     "metadata": {},
     "output_type": "execute_result"
    }
   ],
   "source": [
    "print('# of rows with -3 levels: {}'.format(merged_df[merged_df['floor']==-3]['floor'].count()))\n",
    "pd.DataFrame(merged_df[merged_df['floor']==-3]['apt'].unique(), columns=['apt_name'])"
   ]
  },
  {
   "cell_type": "code",
   "execution_count": 27,
   "metadata": {},
   "outputs": [
    {
     "name": "stdout",
     "output_type": "stream",
     "text": [
      "# of rows with -2 levels: 4\n"
     ]
    },
    {
     "data": {
      "text/html": [
       "<div>\n",
       "<style scoped>\n",
       "    .dataframe tbody tr th:only-of-type {\n",
       "        vertical-align: middle;\n",
       "    }\n",
       "\n",
       "    .dataframe tbody tr th {\n",
       "        vertical-align: top;\n",
       "    }\n",
       "\n",
       "    .dataframe thead th {\n",
       "        text-align: right;\n",
       "    }\n",
       "</style>\n",
       "<table border=\"1\" class=\"dataframe\">\n",
       "  <thead>\n",
       "    <tr style=\"text-align: right;\">\n",
       "      <th></th>\n",
       "      <th>apt_name</th>\n",
       "    </tr>\n",
       "  </thead>\n",
       "  <tbody>\n",
       "    <tr>\n",
       "      <th>0</th>\n",
       "      <td>은평뉴타운 우물골(두산위브7단지)</td>\n",
       "    </tr>\n",
       "  </tbody>\n",
       "</table>\n",
       "</div>"
      ],
      "text/plain": [
       "             apt_name\n",
       "0  은평뉴타운 우물골(두산위브7단지)"
      ]
     },
     "execution_count": 27,
     "metadata": {},
     "output_type": "execute_result"
    }
   ],
   "source": [
    "print('# of rows with -2 levels: {}'.format(merged_df[merged_df['floor']==-4]['floor'].count()))\n",
    "pd.DataFrame(merged_df[merged_df['floor']==-4]['apt'].unique(), columns=['apt_name'])"
   ]
  },
  {
   "cell_type": "markdown",
   "metadata": {},
   "source": [
    "![minus three](./img/example3.jpg)"
   ]
  },
  {
   "cell_type": "code",
   "execution_count": 28,
   "metadata": {},
   "outputs": [
    {
     "data": {
      "text/plain": [
       "['해운대두산위브더제니스']"
      ]
     },
     "execution_count": 28,
     "metadata": {},
     "output_type": "execute_result"
    }
   ],
   "source": [
    "# no, it is not an error. You can live on the 80th floor if you want\n",
    "list(set(merged_df[merged_df['floor']==80]['apt']))"
   ]
  },
  {
   "cell_type": "markdown",
   "metadata": {},
   "source": [
    "![minus three](./img/example4.jpg)"
   ]
  },
  {
   "cell_type": "markdown",
   "metadata": {},
   "source": [
    "Seems like they are habitable apartments except for '은평뉴타운우물골7단지'. Remove '은평뉴타운우물골7단지' rows in every given dataset."
   ]
  },
  {
   "cell_type": "code",
   "execution_count": 29,
   "metadata": {},
   "outputs": [],
   "source": [
    "train = train.loc[train['apt'] !='은평뉴타운 우물골(두산위브7단지)']\n",
    "test = test.loc[test['apt'] !='은평뉴타운 우물골(두산위브7단지)']"
   ]
  },
  {
   "cell_type": "code",
   "execution_count": 30,
   "metadata": {},
   "outputs": [],
   "source": [
    "#2. Split 'transaction_year_month'\n",
    "train['transaction_year_month'] = train['transaction_year_month'].astype('str')\n",
    "train['transaction_year'] = train['transaction_year_month'].str.slice(0,4)\n",
    "train['transaction_month'] = train['transaction_year_month'].str.slice(5,7)\n",
    "train.drop('transaction_year_month',axis=1, inplace=True)\n",
    "\n",
    "test['transaction_year_month'] = test['transaction_year_month'].astype('str')\n",
    "test['transaction_year'] = test['transaction_year_month'].str.slice(0,4)\n",
    "test['transaction_month'] = test['transaction_year_month'].str.slice(5,7)\n",
    "test.drop('transaction_year_month',axis=1, inplace=True)"
   ]
  },
  {
   "cell_type": "code",
   "execution_count": 31,
   "metadata": {},
   "outputs": [],
   "source": [
    "#3. Categorize 'transaction_date'\n",
    "# change 1-10, 11-20, and the rest to 1,2,3\n",
    "train.loc[train['transaction_date']=='1~10', 'transaction_date'] = 'beginning of the month'\n",
    "train.loc[train['transaction_date']=='11~20', 'transaction_date'] = 'middle of the month'\n",
    "train.loc[(train['transaction_date']!='1~10') & (train['transaction_date']!='11~20'), 'transaction_date'] = 'end of the month'\n",
    "\n",
    "test.loc[test['transaction_date']=='1~10', 'transaction_date'] = 'beginning of the month'\n",
    "test.loc[test['transaction_date']=='11~20', 'transaction_date'] = 'middle of the month'\n",
    "test.loc[(test['transaction_date']!='1~10') & (test['transaction_date']!='11~20'), 'transaction_date'] = 'end of the month'"
   ]
  },
  {
   "cell_type": "code",
   "execution_count": 32,
   "metadata": {},
   "outputs": [
    {
     "data": {
      "text/plain": [
       "True"
      ]
     },
     "execution_count": 32,
     "metadata": {},
     "output_type": "execute_result"
    }
   ],
   "source": [
    "#4. One-hot encoding on 'city', 'dong', 'apt', 'year', 'month', 'date'\n",
    "# before going on, compare train and test datasets on 'city' and 'dong'\n",
    "# no difference in city\n",
    "list(train.city.unique()) == list(test.city.unique())"
   ]
  },
  {
   "cell_type": "code",
   "execution_count": 33,
   "metadata": {},
   "outputs": [
    {
     "name": "stdout",
     "output_type": "stream",
     "text": [
      "# of dongs only in train dataset: 83\n",
      "# of dongs only in test dataset: 0\n"
     ]
    }
   ],
   "source": [
    "# there is the difference in dong\n",
    "list(train.dong.unique()) == list(test.dong.unique())\n",
    "print(\"# of dongs only in train dataset: {}\".format(len(set(train.dong)-set(test.dong))))\n",
    "print(\"# of dongs only in test dataset: {}\".format(len(set(test.dong)-set(train.dong))))"
   ]
  },
  {
   "cell_type": "code",
   "execution_count": 34,
   "metadata": {},
   "outputs": [
    {
     "name": "stdout",
     "output_type": "stream",
     "text": [
      "Deleted rows: 11641\n"
     ]
    }
   ],
   "source": [
    "# Remove the dongs only in the train dataset \n",
    "tmp = train.copy()\n",
    "for dong in list(set(train.dong)-set(test.dong)):\n",
    "    tmp = tmp.loc[tmp['dong']!=dong]  \n",
    "print('Deleted rows:', train.shape[0] - tmp.shape[0])\n",
    "train = tmp"
   ]
  },
  {
   "cell_type": "code",
   "execution_count": 35,
   "metadata": {},
   "outputs": [],
   "source": [
    "# Remove unnecessary columns\n",
    "train.drop(['jibun','apt','addr_kr'], axis=1, inplace=True)\n",
    "test.drop(['jibun','apt','addr_kr'], axis=1, inplace=True)"
   ]
  },
  {
   "cell_type": "markdown",
   "metadata": {},
   "source": [
    "#### (2) day care center"
   ]
  },
  {
   "cell_type": "code",
   "execution_count": 36,
   "metadata": {},
   "outputs": [
    {
     "data": {
      "text/plain": [
       "playground_num          3925\n",
       "nursing_room_num        3199\n",
       "CCTV_num                2271\n",
       "is_commuting_vehicle     496\n",
       "teacher_num              225\n",
       "reference_date             0\n",
       "day_care_baby_num          0\n",
       "day_care_type              0\n",
       "day_care_name              0\n",
       "gu                         0\n",
       "city                       0\n",
       "dtype: int64"
      ]
     },
     "execution_count": 36,
     "metadata": {},
     "output_type": "execute_result"
    }
   ],
   "source": [
    "# fill missing values\n",
    "day_care_center.isnull().sum().sort_values(ascending=False)"
   ]
  },
  {
   "cell_type": "code",
   "execution_count": 37,
   "metadata": {},
   "outputs": [
    {
     "name": "stdout",
     "output_type": "stream",
     "text": [
      "# of missing values: 51.98%\n",
      "=> NO FILL NAS, DROP THE COLUMN\n"
     ]
    }
   ],
   "source": [
    "# drop the column 'playground_num' as it is too many to replace with the median\n",
    "print('# of missing values:', str(round(day_care_center['playground_num'].isnull().sum()/day_care_center.shape[0]*100,2))+'%')\n",
    "print('=> NO FILL NAS, DROP THE COLUMN')\n",
    "day_care_center.drop('playground_num', axis=1, inplace=True)"
   ]
  },
  {
   "cell_type": "code",
   "execution_count": 38,
   "metadata": {},
   "outputs": [
    {
     "name": "stdout",
     "output_type": "stream",
     "text": [
      "# of missing values: 42.37%\n",
      "=> FILL NAS with the median value of the group to which the specific row belongs\n"
     ]
    }
   ],
   "source": [
    "# drop the column 'nursing_room_num' as it is too many to replace with the median\n",
    "print('# of missing values:', str(round(day_care_center['nursing_room_num'].isnull().sum()/day_care_center.shape[0]*100,2))+'%')\n",
    "print('=> FILL NAS with the median value of the group to which the specific row belongs')\n",
    "day_care_center.drop('nursing_room_num', axis=1, inplace=True)"
   ]
  },
  {
   "cell_type": "code",
   "execution_count": 39,
   "metadata": {},
   "outputs": [
    {
     "name": "stdout",
     "output_type": "stream",
     "text": [
      "# of missing values: 30.08%\n",
      "=> NO FILL NAS, DROP THE COLUMN\n"
     ]
    }
   ],
   "source": [
    "# drop the column 'CCTV_num' as it is too many to replace with the median\n",
    "print('# of missing values:', str(round(day_care_center['CCTV_num'].isnull().sum()/day_care_center.shape[0]*100,2))+'%')\n",
    "print('=> NO FILL NAS, DROP THE COLUMN')\n",
    "day_care_center.drop('CCTV_num', axis=1, inplace=True)"
   ]
  },
  {
   "cell_type": "code",
   "execution_count": 40,
   "metadata": {},
   "outputs": [
    {
     "name": "stdout",
     "output_type": "stream",
     "text": [
      "# of missing values: 6.57%\n",
      "=> NO FILL NAS, DROP THE COLUMN\n"
     ]
    }
   ],
   "source": [
    "# drop the column 'commuting_vehicle' as it is too many to replace with the median\n",
    "print('# of missing values:', str(round(day_care_center['is_commuting_vehicle'].isnull().sum()/day_care_center.shape[0]*100,2))+'%')\n",
    "print('=> NO FILL NAS, DROP THE COLUMN')\n",
    "day_care_center.drop('is_commuting_vehicle', axis=1, inplace=True)"
   ]
  },
  {
   "cell_type": "code",
   "execution_count": 41,
   "metadata": {},
   "outputs": [
    {
     "name": "stdout",
     "output_type": "stream",
     "text": [
      "# of missing values: 2.98%\n",
      "=> FILL NAS with the median value of the group to which the specific row belongs\n"
     ]
    }
   ],
   "source": [
    "# drop the column 'CCTV_num' as it is too many to replace with the median\n",
    "print('# of missing values:', str(round(day_care_center['teacher_num'].isnull().sum()/day_care_center.shape[0]*100,2))+'%')\n",
    "print('=> FILL NAS with the median value of the group to which the specific row belongs')"
   ]
  },
  {
   "cell_type": "code",
   "execution_count": 42,
   "metadata": {},
   "outputs": [
    {
     "name": "stdout",
     "output_type": "stream",
     "text": [
      "median number of teachers when there are\n",
      "0-10 babies: 2.0\n",
      "11-20 babies: 6.0\n",
      "21-60 babies: 7.0\n",
      "31-20 babies: 8.0\n",
      "41-60 babies: 10.0\n",
      "51-20 babies: 11.0\n",
      "61-60 babies: 11.0\n",
      "71-20 babies: 12.0\n",
      "81-60 babies: 14.0\n",
      "91+ babies: 18.0\n"
     ]
    }
   ],
   "source": [
    "# divide the baby number group \n",
    "c1 = (day_care_center['day_care_baby_num']>0) & (day_care_center['day_care_baby_num']<=10)\n",
    "c2 = (day_care_center['day_care_baby_num']>10) & (day_care_center['day_care_baby_num']<=20)\n",
    "c3 = (day_care_center['day_care_baby_num']>20) & (day_care_center['day_care_baby_num']<=30)\n",
    "c4 = (day_care_center['day_care_baby_num']>30) & (day_care_center['day_care_baby_num']<=40)\n",
    "c5 = (day_care_center['day_care_baby_num']>40) & (day_care_center['day_care_baby_num']<=50)\n",
    "c6 = (day_care_center['day_care_baby_num']>50) & (day_care_center['day_care_baby_num']<=60)\n",
    "c7 = (day_care_center['day_care_baby_num']>60) & (day_care_center['day_care_baby_num']<=70)\n",
    "c8 = (day_care_center['day_care_baby_num']>70) & (day_care_center['day_care_baby_num']<=80)\n",
    "c9 = (day_care_center['day_care_baby_num']>80) & (day_care_center['day_care_baby_num']<=90)\n",
    "c10 = day_care_center['day_care_baby_num'] >90\n",
    "\n",
    "med1= day_care_center.loc[c1]['teacher_num'].median()\n",
    "med2= day_care_center.loc[c2]['teacher_num'].median()\n",
    "med3= day_care_center.loc[c3]['teacher_num'].median()\n",
    "med4= day_care_center.loc[c4]['teacher_num'].median()\n",
    "med5= day_care_center.loc[c5]['teacher_num'].median()\n",
    "med6= day_care_center.loc[c6]['teacher_num'].median()\n",
    "med7= day_care_center.loc[c7]['teacher_num'].median()\n",
    "med8= day_care_center.loc[c8]['teacher_num'].median()\n",
    "med9= day_care_center.loc[c9]['teacher_num'].median()\n",
    "med10= day_care_center.loc[c10]['teacher_num'].median()\n",
    "\n",
    "print('median number of teachers when there are')\n",
    "print('0-10 babies:', med1)\n",
    "print('11-20 babies:', med2)\n",
    "print('21-60 babies:', med3)\n",
    "print('31-20 babies:', med4)\n",
    "print('41-60 babies:', med5)\n",
    "print('51-20 babies:', med6)\n",
    "print('61-60 babies:', med7)\n",
    "print('71-20 babies:', med8)\n",
    "print('81-60 babies:', med9)\n",
    "print('91+ babies:', med10)"
   ]
  },
  {
   "cell_type": "code",
   "execution_count": 43,
   "metadata": {},
   "outputs": [],
   "source": [
    "day_care_center.loc[c1, 'teacher_num'] = day_care_center.loc[c1].fillna(day_care_center.loc[c1].median())\n",
    "day_care_center.loc[c2, 'teacher_num'] = day_care_center.loc[c2].fillna(day_care_center.loc[c2].median())\n",
    "day_care_center.loc[c3, 'teacher_num'] = day_care_center.loc[c3].fillna(day_care_center.loc[c3].median())\n",
    "day_care_center.loc[c4, 'teacher_num'] = day_care_center.loc[c4].fillna(day_care_center.loc[c4].median())\n",
    "day_care_center.loc[c5, 'teacher_num'] = day_care_center.loc[c5].fillna(day_care_center.loc[c5].median())\n",
    "day_care_center.loc[c6, 'teacher_num'] = day_care_center.loc[c6].fillna(day_care_center.loc[c6].median())\n",
    "day_care_center.loc[c7, 'teacher_num'] = day_care_center.loc[c7].fillna(day_care_center.loc[c7].median())\n",
    "day_care_center.loc[c8, 'teacher_num'] = day_care_center.loc[c8].fillna(day_care_center.loc[c8].median())\n",
    "day_care_center.loc[c9, 'teacher_num'] = day_care_center.loc[c9].fillna(day_care_center.loc[c9].median())\n",
    "day_care_center.loc[c10, 'teacher_num'] = day_care_center.loc[c10].fillna(day_care_center.loc[c10].median())"
   ]
  },
  {
   "cell_type": "code",
   "execution_count": 44,
   "metadata": {},
   "outputs": [
    {
     "data": {
      "text/plain": [
       "city                 0\n",
       "gu                   0\n",
       "day_care_name        0\n",
       "day_care_type        0\n",
       "day_care_baby_num    0\n",
       "teacher_num          0\n",
       "reference_date       0\n",
       "dtype: int64"
      ]
     },
     "execution_count": 44,
     "metadata": {},
     "output_type": "execute_result"
    }
   ],
   "source": [
    "day_care_center.isnull().sum()"
   ]
  },
  {
   "cell_type": "code",
   "execution_count": 45,
   "metadata": {},
   "outputs": [],
   "source": [
    "# drop rows whose teacher_num is 0 whereas baby num is not 0\n",
    "day_care_center.describe()\n",
    "day_care_center = day_care_center.loc[day_care_center['teacher_num']!=0]"
   ]
  },
  {
   "cell_type": "code",
   "execution_count": 46,
   "metadata": {},
   "outputs": [],
   "source": [
    "# create new metrics, baby_per_teacher\n",
    "day_care_center['baby_per_teacher'] = day_care_center['day_care_baby_num'].astype(float) / day_care_center['teacher_num'].astype(float)\n",
    "\n",
    "# drop unnecessary columns\n",
    "day_care_center.drop(['day_care_baby_num','teacher_num', 'reference_date'], axis=1, inplace=True)"
   ]
  },
  {
   "cell_type": "code",
   "execution_count": 47,
   "metadata": {},
   "outputs": [
    {
     "data": {
      "text/html": [
       "<div>\n",
       "<style scoped>\n",
       "    .dataframe tbody tr th:only-of-type {\n",
       "        vertical-align: middle;\n",
       "    }\n",
       "\n",
       "    .dataframe tbody tr th {\n",
       "        vertical-align: top;\n",
       "    }\n",
       "\n",
       "    .dataframe thead th {\n",
       "        text-align: right;\n",
       "    }\n",
       "</style>\n",
       "<table border=\"1\" class=\"dataframe\">\n",
       "  <thead>\n",
       "    <tr style=\"text-align: right;\">\n",
       "      <th></th>\n",
       "      <th>city</th>\n",
       "      <th>gu</th>\n",
       "      <th>avg_baby_per_teacher</th>\n",
       "    </tr>\n",
       "  </thead>\n",
       "  <tbody>\n",
       "    <tr>\n",
       "      <th>0</th>\n",
       "      <td>부산광역시</td>\n",
       "      <td>강서구</td>\n",
       "      <td>6.32</td>\n",
       "    </tr>\n",
       "    <tr>\n",
       "      <th>1</th>\n",
       "      <td>부산광역시</td>\n",
       "      <td>금정구</td>\n",
       "      <td>4.97</td>\n",
       "    </tr>\n",
       "    <tr>\n",
       "      <th>2</th>\n",
       "      <td>부산광역시</td>\n",
       "      <td>기장군</td>\n",
       "      <td>4.73</td>\n",
       "    </tr>\n",
       "    <tr>\n",
       "      <th>3</th>\n",
       "      <td>부산광역시</td>\n",
       "      <td>남구</td>\n",
       "      <td>5.37</td>\n",
       "    </tr>\n",
       "    <tr>\n",
       "      <th>4</th>\n",
       "      <td>부산광역시</td>\n",
       "      <td>동구</td>\n",
       "      <td>5.58</td>\n",
       "    </tr>\n",
       "  </tbody>\n",
       "</table>\n",
       "</div>"
      ],
      "text/plain": [
       "    city   gu  avg_baby_per_teacher\n",
       "0  부산광역시  강서구                  6.32\n",
       "1  부산광역시  금정구                  4.97\n",
       "2  부산광역시  기장군                  4.73\n",
       "3  부산광역시   남구                  5.37\n",
       "4  부산광역시   동구                  5.58"
      ]
     },
     "execution_count": 47,
     "metadata": {},
     "output_type": "execute_result"
    }
   ],
   "source": [
    "# group by address for concatenating to train/test \n",
    "day_care_df = day_care_center.drop(['day_care_name', 'day_care_type'], axis=1).groupby(['city','gu']).agg(['mean']).reset_index()\n",
    "day_care_df.columns = ['city','gu','avg_baby_per_teacher']\n",
    "day_care_df.head()"
   ]
  },
  {
   "cell_type": "markdown",
   "metadata": {},
   "source": [
    "#### (3) Park"
   ]
  },
  {
   "cell_type": "code",
   "execution_count": 48,
   "metadata": {},
   "outputs": [
    {
     "data": {
      "text/plain": [
       "city                              0\n",
       "gu                                3\n",
       "dong                              0\n",
       "park_name                         0\n",
       "park_type                         0\n",
       "park_area                         0\n",
       "park_exercise_facility         1082\n",
       "park_entertainment_facility     924\n",
       "park_benefit_facility          1093\n",
       "park_cultural_facitiy          1287\n",
       "park_facility_other            1184\n",
       "park_open_year                  422\n",
       "reference_date                    0\n",
       "dtype: int64"
      ]
     },
     "execution_count": 48,
     "metadata": {},
     "output_type": "execute_result"
    }
   ],
   "source": [
    "park.isnull().sum()"
   ]
  },
  {
   "cell_type": "code",
   "execution_count": 49,
   "metadata": {},
   "outputs": [],
   "source": [
    "# fill 3 missing gu information\n",
    "park[565:566]['gu'] = '중구'\n",
    "park[566:567]['gu'] = '부산진구'\n",
    "park[567:568]['gu'] = '동래구'"
   ]
  },
  {
   "cell_type": "code",
   "execution_count": 50,
   "metadata": {},
   "outputs": [],
   "source": [
    "# drop columns having too many missing values\n",
    "park.drop(['park_exercise_facility', 'park_entertainment_facility','park_benefit_facility',\n",
    "           'park_cultural_facitiy', 'park_facility_other'], axis=1, inplace=True)"
   ]
  },
  {
   "cell_type": "code",
   "execution_count": 51,
   "metadata": {},
   "outputs": [],
   "source": [
    "# drop unnecessary columns\n",
    "park.drop(['park_name','park_type','park_open_year', 'reference_date'], axis=1, inplace=True)"
   ]
  },
  {
   "cell_type": "code",
   "execution_count": 52,
   "metadata": {},
   "outputs": [],
   "source": [
    "# group by address for concatenating to train/test \n",
    "park_df = park.groupby(['city','gu']).agg(['count','mean']).reset_index()\n",
    "park_df.columns  =['city','gu','total_park_cnt','avg_park_area']"
   ]
  },
  {
   "cell_type": "markdown",
   "metadata": {},
   "source": [
    "#### Create a final dataset"
   ]
  },
  {
   "cell_type": "code",
   "execution_count": 53,
   "metadata": {},
   "outputs": [],
   "source": [
    "gudong = pd.read_csv('./input/gudongd.csv')\n",
    "gudong = gudong.drop_duplicates()"
   ]
  },
  {
   "cell_type": "code",
   "execution_count": 54,
   "metadata": {},
   "outputs": [],
   "source": [
    "# delete whitspaces\n",
    "gudong['dong'] = gudong['dong'].str.strip()"
   ]
  },
  {
   "cell_type": "code",
   "execution_count": 55,
   "metadata": {},
   "outputs": [
    {
     "data": {
      "text/html": [
       "<div>\n",
       "<style scoped>\n",
       "    .dataframe tbody tr th:only-of-type {\n",
       "        vertical-align: middle;\n",
       "    }\n",
       "\n",
       "    .dataframe tbody tr th {\n",
       "        vertical-align: top;\n",
       "    }\n",
       "\n",
       "    .dataframe thead th {\n",
       "        text-align: right;\n",
       "    }\n",
       "</style>\n",
       "<table border=\"1\" class=\"dataframe\">\n",
       "  <thead>\n",
       "    <tr style=\"text-align: right;\">\n",
       "      <th></th>\n",
       "      <th>city</th>\n",
       "      <th>gu</th>\n",
       "      <th>dong</th>\n",
       "    </tr>\n",
       "  </thead>\n",
       "  <tbody>\n",
       "    <tr>\n",
       "      <th>367</th>\n",
       "      <td>서울특별시</td>\n",
       "      <td>은평구</td>\n",
       "      <td>신사동</td>\n",
       "    </tr>\n",
       "    <tr>\n",
       "      <th>612</th>\n",
       "      <td>서울특별시</td>\n",
       "      <td>서초구</td>\n",
       "      <td>신사동</td>\n",
       "    </tr>\n",
       "    <tr>\n",
       "      <th>616</th>\n",
       "      <td>서울특별시</td>\n",
       "      <td>강남구</td>\n",
       "      <td>신사동</td>\n",
       "    </tr>\n",
       "  </tbody>\n",
       "</table>\n",
       "</div>"
      ],
      "text/plain": [
       "      city   gu dong\n",
       "367  서울특별시  은평구  신사동\n",
       "612  서울특별시  서초구  신사동\n",
       "616  서울특별시  강남구  신사동"
      ]
     },
     "execution_count": 55,
     "metadata": {},
     "output_type": "execute_result"
    }
   ],
   "source": [
    "# check duplicated dong names in case\n",
    "# Actually there are three 신사동 in Seoul in total.\n",
    "gudong[gudong.dong.str.contains('신사')].head()"
   ]
  },
  {
   "cell_type": "markdown",
   "metadata": {},
   "source": [
    "Although there are three duplicated dongs without gu information given in train/test dataset, we do not have to drop these rows because only 은평구's 신사동 is used in train/test."
   ]
  },
  {
   "cell_type": "code",
   "execution_count": 56,
   "metadata": {},
   "outputs": [
    {
     "data": {
      "text/html": [
       "<div>\n",
       "<style scoped>\n",
       "    .dataframe tbody tr th:only-of-type {\n",
       "        vertical-align: middle;\n",
       "    }\n",
       "\n",
       "    .dataframe tbody tr th {\n",
       "        vertical-align: top;\n",
       "    }\n",
       "\n",
       "    .dataframe thead th {\n",
       "        text-align: right;\n",
       "    }\n",
       "</style>\n",
       "<table border=\"1\" class=\"dataframe\">\n",
       "  <thead>\n",
       "    <tr style=\"text-align: right;\">\n",
       "      <th></th>\n",
       "      <th>city</th>\n",
       "      <th>gu</th>\n",
       "      <th>dong</th>\n",
       "    </tr>\n",
       "  </thead>\n",
       "  <tbody>\n",
       "    <tr>\n",
       "      <th>367</th>\n",
       "      <td>서울특별시</td>\n",
       "      <td>은평구</td>\n",
       "      <td>신사동</td>\n",
       "    </tr>\n",
       "  </tbody>\n",
       "</table>\n",
       "</div>"
      ],
      "text/plain": [
       "      city   gu dong\n",
       "367  서울특별시  은평구  신사동"
      ]
     },
     "execution_count": 56,
     "metadata": {},
     "output_type": "execute_result"
    }
   ],
   "source": [
    "# remove 신사동 from 서초구, 강남구 \n",
    "gudong = gudong.drop(gudong.loc[(gudong.gu=='강남구') & (gudong.dong=='신사동')].index, axis=0)\n",
    "gudong = gudong.drop(gudong.loc[(gudong.gu=='서초구') & (gudong.dong=='신사동')].index, axis=0)\n",
    "gudong[gudong.dong.str.contains('신사')].head()"
   ]
  },
  {
   "cell_type": "code",
   "execution_count": 57,
   "metadata": {},
   "outputs": [
    {
     "name": "stdout",
     "output_type": "stream",
     "text": [
      "서울특별시 성북동\n",
      "서울특별시 성북동1가\n",
      "서울특별시 동소문동1가\n",
      "서울특별시 동소문동4가\n",
      "서울특별시 삼선동1가\n",
      "서울특별시 삼선동2가\n",
      "서울특별시 삼선동3가\n",
      "서울특별시 삼선동4가\n",
      "서울특별시 삼선동5가\n",
      "서울특별시 돈암동\n",
      "서울특별시 동소문동2가\n",
      "서울특별시 동소문동3가\n",
      "서울특별시 동소문동5가\n",
      "서울특별시 동선동1가\n",
      "서울특별시 동선동2가\n",
      "서울특별시 동선동3가\n",
      "서울특별시 동선동4가\n",
      "서울특별시 동선동5가\n",
      "서울특별시 동소문동6가\n",
      "서울특별시 동소문동7가\n",
      "서울특별시 안암동1가\n",
      "서울특별시 안암동2가\n",
      "서울특별시 안암동3가\n",
      "서울특별시 안암동4가\n",
      "서울특별시 안암동5가\n",
      "서울특별시 돈암동\n",
      "서울특별시 보문동1가\n",
      "서울특별시 보문동2가\n",
      "서울특별시 보문동3가\n",
      "서울특별시 보문동4가\n",
      "서울특별시 보문동5가\n",
      "서울특별시 보문동6가\n",
      "서울특별시 보문동7가\n",
      "서울특별시 정릉동\n",
      "서울특별시 길음동\n",
      "서울특별시 하월곡동\n",
      "서울특별시 종암동\n",
      "서울특별시 상월곡동\n",
      "서울특별시 중곡동\n",
      "서울특별시 능동\n",
      "서울특별시 구의동\n",
      "서울특별시 광장동\n",
      "서울특별시 자양동\n",
      "서울특별시 화양동\n",
      "서울특별시 군자동\n",
      "서울특별시 신설동\n",
      "서울특별시 제기동\n",
      "서울특별시 전농동\n",
      "서울특별시 답십리동\n",
      "서울특별시 장안동\n",
      "서울특별시 용두동\n",
      "서울특별시 청량리동\n",
      "서울특별시 회기동\n",
      "서울특별시 휘경동\n",
      "서울특별시 이문동\n",
      "서울특별시 면목동\n",
      "서울특별시 상봉동\n",
      "서울특별시 중화동\n",
      "서울특별시 묵동\n",
      "서울특별시 망우동\n",
      "서울특별시 신내동\n",
      "서울특별시 하왕십리동\n",
      "서울특별시 상왕십리동\n",
      "서울특별시 마장동\n",
      "서울특별시 사근동\n",
      "서울특별시 행당동\n",
      "서울특별시 응봉동\n",
      "서울특별시 금호동1가\n",
      "서울특별시 금호동2가\n",
      "서울특별시 금호동4가\n",
      "서울특별시 옥수동\n",
      "서울특별시 성수동1가\n",
      "서울특별시 성수동2가\n",
      "서울특별시 송정동\n",
      "서울특별시 용답동\n",
      "서울특별시 하왕십리동\n",
      "서울특별시 도선동\n",
      "서울특별시 홍익동\n",
      "서울특별시 행당동\n",
      "서울특별시 송정동\n",
      "서울특별시 금호동3가\n",
      "서울특별시 청운동\n",
      "서울특별시 신교동\n",
      "서울특별시 궁정동\n",
      "서울특별시 세종로\n",
      "서울특별시 효자동\n",
      "서울특별시 창성동\n",
      "서울특별시 통인동\n",
      "서울특별시 누상동\n",
      "서울특별시 누하동\n",
      "서울특별시 옥인동\n",
      "서울특별시 사직동\n",
      "서울특별시 체부동\n",
      "서울특별시 필운동\n",
      "서울특별시 내자동\n",
      "서울특별시 통의동\n",
      "서울특별시 적선동\n",
      "서울특별시 도렴동\n",
      "서울특별시 당주동\n",
      "서울특별시 내수동\n",
      "서울특별시 신문로1.2가\n",
      "서울특별시 삼청동\n",
      "서울특별시 팔판동\n",
      "서울특별시 안국동\n",
      "서울특별시 소격동\n",
      "서울특별시 화동\n",
      "서울특별시 사간동\n",
      "서울특별시 송현동\n",
      "서울특별시 가회동\n",
      "서울특별시 재동\n",
      "서울특별시 계동\n",
      "서울특별시 원서동\n",
      "서울특별시 부암동\n",
      "서울특별시 홍지동\n",
      "서울특별시 신영동\n",
      "서울특별시 평창동\n",
      "서울특별시 구기동\n",
      "서울특별시 무악동\n",
      "서울특별시 교남동\n",
      "서울특별시 평동\n",
      "서울특별시 송월동\n",
      "서울특별시 홍파동\n",
      "서울특별시 교북동\n",
      "서울특별시 행촌동\n",
      "서울특별시 종로1가\n",
      "서울특별시 종로2가\n",
      "서울특별시 종로3가\n",
      "서울특별시 종로4가\n",
      "서울특별시 청진동\n",
      "서울특별시 서린동\n",
      "서울특별시 수송동\n",
      "서울특별시 중학동\n",
      "서울특별시 공평동\n",
      "서울특별시 관훈동\n",
      "서울특별시 견지동\n",
      "서울특별시 권농동\n",
      "서울특별시 운니동\n",
      "서울특별시 익선동\n",
      "서울특별시 경운동\n",
      "서울특별시 관철동\n",
      "서울특별시 인사동\n",
      "서울특별시 낙원동\n",
      "서울특별시 와룡동\n",
      "서울특별시 훈정동\n",
      "서울특별시 묘동\n",
      "서울특별시 봉익동\n",
      "서울특별시 돈의동\n",
      "서울특별시 장사동\n",
      "서울특별시 관수동\n",
      "서울특별시 인의동\n",
      "서울특별시 예지동\n",
      "서울특별시 원남동\n",
      "서울특별시 종로5가\n",
      "서울특별시 종로6가\n",
      "서울특별시 효제동\n",
      "서울특별시 연지동\n",
      "서울특별시 충신동\n",
      "서울특별시 이화동\n",
      "서울특별시 연건동\n",
      "서울특별시 동숭동\n",
      "서울특별시 혜화동\n",
      "서울특별시 명륜1가\n",
      "서울특별시 명륜2가\n",
      "서울특별시 명륜3가\n",
      "서울특별시 명륜4가\n",
      "서울특별시 창신동\n",
      "서울특별시 숭인동\n",
      "서울특별시 소공동\n",
      "서울특별시 북창동\n",
      "서울특별시 태평로2가\n",
      "서울특별시 남대문로2가\n",
      "서울특별시 남대문로3가\n",
      "서울특별시 남대문로4가\n",
      "서울특별시 서소문동\n",
      "서울특별시 정동\n",
      "서울특별시 순화동\n",
      "서울특별시 의주로1가\n",
      "서울특별시 충정로1가\n",
      "서울특별시 봉래동1가\n",
      "서울특별시 회현동1가\n",
      "서울특별시 회현동2가\n",
      "서울특별시 남창동\n",
      "서울특별시 남대문로5가\n",
      "서울특별시 봉래동2가\n",
      "서울특별시 명동1가\n",
      "서울특별시 명동2가\n",
      "서울특별시 충무로1가\n",
      "서울특별시 충무로2가\n",
      "서울특별시 인현동\n",
      "서울특별시 저동1가\n",
      "서울특별시 남산동1가\n",
      "서울특별시 남산동2가\n",
      "서울특별시 남산동3가\n",
      "서울특별시 태평로1가\n",
      "서울특별시 무교동\n",
      "서울특별시 다동\n",
      "서울특별시 을지로1가\n",
      "서울특별시 을지로2가\n",
      "서울특별시 삼각동\n",
      "서울특별시 남대문로1가\n",
      "서울특별시 수하동\n",
      "서울특별시 장교동\n",
      "서울특별시 수표동\n",
      "서울특별시 예장동\n",
      "서울특별시 회현동1가\n",
      "서울특별시 회현동3가\n",
      "서울특별시 장충동1가\n",
      "서울특별시 장충동2가\n",
      "서울특별시 묵정동\n",
      "서울특별시 필동1가\n",
      "서울특별시 필동2가\n",
      "서울특별시 필동3가\n",
      "서울특별시 남학동\n",
      "서울특별시 주자동\n",
      "서울특별시 충무로3가\n",
      "서울특별시 충무로4가\n",
      "서울특별시 충무로5가\n",
      "서울특별시 광희동1가\n",
      "서울특별시 광희동2가\n",
      "서울특별시 쌍림동\n",
      "서울특별시 을지로6가\n",
      "서울특별시 을지로7가\n",
      "서울특별시 인헌동2가\n",
      "서울특별시 예관동\n",
      "서울특별시 오장동\n",
      "서울특별시 을지로5가\n",
      "서울특별시 주교동\n",
      "서울특별시 방산동\n",
      "서울특별시 입정동\n",
      "서울특별시 산림동\n",
      "서울특별시 초동\n",
      "서울특별시 인헌동1가\n",
      "서울특별시 저동2가\n",
      "서울특별시 황학동\n",
      "서울특별시 중림동\n",
      "서울특별시 의주로2가\n",
      "서울특별시 만리동1가\n",
      "서울특별시 무학동\n",
      "서울특별시 흥인동\n",
      "서울특별시 신당동\n",
      "서울특별시 만리동2가\n",
      "서울특별시 을지로3가\n",
      "서울특별시 을지로4가\n",
      "서울특별시 서계동\n",
      "서울특별시 원효로1가\n",
      "서울특별시 원효로2가\n",
      "서울특별시 문배동\n",
      "서울특별시 신계동\n",
      "서울특별시 원효로3가\n",
      "서울특별시 원효로4가\n",
      "서울특별시 신창동\n",
      "서울특별시 산천동\n",
      "서울특별시 청암동\n",
      "서울특별시 한강로1가\n",
      "서울특별시 한강로2가\n",
      "서울특별시 한강로3가\n",
      "서울특별시 용산동3가\n",
      "서울특별시 용산동5가\n",
      "서울특별시 용문동\n",
      "서울특별시 도원동\n",
      "서울특별시 후암동\n",
      "서울특별시 효창동\n",
      "서울특별시 용산동6가\n",
      "서울특별시 한남동\n",
      "서울특별시 이태원동\n",
      "서울특별시 이촌동\n",
      "서울특별시 서빙고동\n",
      "서울특별시 보광동\n",
      "서울특별시 수유동\n",
      "서울특별시 미아동\n",
      "서울특별시 번동\n",
      "서울특별시 수유동\n",
      "서울특별시 우이동\n",
      "서울특별시 쌍문동\n",
      "서울특별시 방학동\n",
      "서울특별시 창동\n",
      "서울특별시 도봉동\n",
      "서울특별시 월계동\n",
      "서울특별시 공릉동\n",
      "서울특별시 하계동\n",
      "서울특별시 중계동\n",
      "서울특별시 상계동\n",
      "서울특별시 상계동\n",
      "서울특별시 녹번동\n",
      "서울특별시 불광동\n",
      "서울특별시 갈현동\n",
      "서울특별시 갈현동\n",
      "서울특별시 구산동\n",
      "서울특별시 대조동\n",
      "서울특별시 응암동\n",
      "서울특별시 역촌동\n",
      "서울특별시 신사동\n",
      "서울특별시 증산동\n",
      "서울특별시 수색동\n",
      "서울특별시 진관동\n",
      "서울특별시 충정로3가\n",
      "서울특별시 합동\n",
      "서울특별시 미근동\n",
      "서울특별시 북아현동\n",
      "서울특별시 냉천동\n",
      "서울특별시 옥천동\n",
      "서울특별시 영천동\n",
      "서울특별시 현저동\n",
      "서울특별시 충정로2가\n",
      "서울특별시 천연동\n",
      "서울특별시 북아현동\n",
      "서울특별시 대신동\n",
      "서울특별시 연희동\n",
      "서울특별시 대현동\n",
      "서울특별시 신촌동\n",
      "서울특별시 봉원동\n",
      "서울특별시 창천동\n",
      "서울특별시 홍제동\n",
      "서울특별시 홍은동\n",
      "서울특별시 남가좌동\n",
      "서울특별시 북가좌동\n",
      "서울특별시 아현동\n",
      "서울특별시 공덕동\n",
      "서울특별시 도화동\n",
      "서울특별시 중동\n",
      "서울특별시 동교동\n",
      "서울특별시 당인동\n",
      "서울특별시 신정동\n",
      "서울특별시 하중동\n",
      "서울특별시 공덕동\n",
      "서울특별시 염리동\n",
      "서울특별시 아현동\n",
      "서울특별시 신공덕동\n",
      "서울특별시 도화동\n",
      "서울특별시 마포동\n",
      "서울특별시 토정동\n",
      "서울특별시 대흥동\n",
      "서울특별시 신수동\n",
      "서울특별시 노고산동\n",
      "서울특별시 구수동\n",
      "서울특별시 현석동\n",
      "서울특별시 상수동\n",
      "서울특별시 용강동\n",
      "서울특별시 대흥동\n",
      "서울특별시 염리동\n",
      "서울특별시 신수동\n",
      "서울특별시 창전동\n",
      "서울특별시 서교동\n",
      "서울특별시 합정동\n",
      "서울특별시 망원동\n",
      "서울특별시 연남동\n",
      "서울특별시 성산동\n",
      "서울특별시 상암동\n",
      "서울특별시 목동\n",
      "서울특별시 신월동\n",
      "서울특별시 신정동\n",
      "서울특별시 염창동\n",
      "서울특별시 등촌동\n",
      "서울특별시 화곡동\n",
      "서울특별시 내발산동\n",
      "서울특별시 가양동\n",
      "서울특별시 마곡동\n",
      "서울특별시 염창동\n",
      "서울특별시 외발산동\n",
      "서울특별시 과해동\n",
      "서울특별시 오곡동\n",
      "서울특별시 오쇠동\n",
      "서울특별시 개화동\n",
      "서울특별시 내발산동\n",
      "서울특별시 공항동\n",
      "서울특별시 방화동\n",
      "서울특별시 신도림동\n",
      "서울특별시 구로동\n",
      "서울특별시 가리봉동\n",
      "서울특별시 고척동\n",
      "서울특별시 개봉동\n",
      "서울특별시 오류동\n",
      "서울특별시 천왕동\n",
      "서울특별시 항동\n",
      "서울특별시 궁동\n",
      "서울특별시 온수동\n",
      "서울특별시 가산동\n",
      "서울특별시 독산동\n",
      "서울특별시 시흥동\n",
      "서울특별시 양평동2가\n",
      "서울특별시 양평동3가\n",
      "서울특별시 신길동\n",
      "서울특별시 영동포동2가\n",
      "서울특별시 영동포동3가\n",
      "서울특별시 영동포동4가\n",
      "서울특별시 영동포동5가\n",
      "서울특별시 영동포동6가\n",
      "서울특별시 영동포동7가\n",
      "서울특별시 영동포동8가\n",
      "서울특별시 당산동2가\n",
      "서울특별시 당산동3가\n",
      "서울특별시 당산동5가\n",
      "서울특별시 당산동6가\n",
      "서울특별시 당산동\n",
      "서울특별시 문래동2가\n",
      "서울특별시 문래동3가\n",
      "서울특별시 문래동4가\n",
      "서울특별시 문래동5가\n",
      "서울특별시 문래동6가\n",
      "서울특별시 양평동4가\n",
      "서울특별시 양평동5가\n",
      "서울특별시 양평동6가\n",
      "서울특별시 양화동\n",
      "서울특별시 양평동\n",
      "서울특별시 영등포동\n",
      "서울특별시 영동포동1가\n",
      "서울특별시 여의도동\n",
      "서울특별시 당산동1가\n",
      "서울특별시 당산동4가\n",
      "서울특별시 도림동\n",
      "서울특별시 문래동1가\n",
      "서울특별시 양평동1가\n",
      "서울특별시 양평동3가\n",
      "서울특별시 신길동\n",
      "서울특별시 대림동\n",
      "서울특별시 동작동\n",
      "서울특별시 본동\n",
      "서울특별시 노량진동\n",
      "서울특별시 상도1동\n",
      "서울특별시 상도동\n",
      "서울특별시 흑석동\n",
      "서울특별시 사당동\n",
      "서울특별시 대방동\n",
      "서울특별시 신대방동\n",
      "서울특별시 봉천동\n",
      "서울특별시 남현동\n",
      "서울특별시 신림동\n",
      "서울특별시 서초동\n",
      "서울특별시 잠원동\n",
      "서울특별시 반포동\n",
      "서울특별시 방배동\n",
      "서울특별시 우면동\n",
      "서울특별시 원지동\n",
      "서울특별시 염곡동\n",
      "서울특별시 신원동\n",
      "서울특별시 압구정동\n",
      "서울특별시 양재동\n",
      "서울특별시 내곡동\n",
      "서울특별시 논현동\n",
      "서울특별시 압구정동\n",
      "서울특별시 청담동\n",
      "서울특별시 삼성동\n",
      "서울특별시 대치동\n",
      "서울특별시 역삼동\n",
      "서울특별시 도곡동\n",
      "서울특별시 개포동\n",
      "서울특별시 수서동\n",
      "서울특별시 대치동\n",
      "서울특별시 개포동\n",
      "서울특별시 자곡동\n",
      "서울특별시 율현동\n",
      "서울특별시 일원동\n",
      "서울특별시 수서동\n",
      "서울특별시 세곡동\n",
      "서울특별시 풍납동\n",
      "서울특별시 거여동\n",
      "서울특별시 마천동\n",
      "서울특별시 방이동\n",
      "서울특별시 오금동\n",
      "서울특별시 송파동\n",
      "서울특별시 석촌동\n",
      "서울특별시 삼전동\n",
      "서울특별시 가락동\n",
      "서울특별시 문정동\n",
      "서울특별시 장지동\n",
      "서울특별시 장지동\n",
      "서울특별시 문정동\n",
      "서울특별시 거여동\n",
      "서울특별시 잠실동\n",
      "서울특별시 신천동\n",
      "서울특별시 강일동\n",
      "서울특별시 상일동\n",
      "서울특별시 명일동\n",
      "서울특별시 고덕동\n",
      "서울특별시 암사동\n",
      "서울특별시 천호동\n",
      "서울특별시 성내동\n",
      "서울특별시 길동\n",
      "서울특별시 둔촌동\n",
      "부산광역시 중앙동\n",
      "부산광역시 동광동\n",
      "부산광역시 대청동\n",
      "부산광역시 보수동\n",
      "부산광역시 부평동\n",
      "부산광역시 광복동\n",
      "부산광역시 남포동\n",
      "부산광역시 영주제1동\n",
      "부산광역시 영주제2동\n",
      "부산광역시 동대신제1동\n",
      "부산광역시 동대신제2동\n",
      "부산광역시 동대신제3동\n",
      "부산광역시 서대신제1동\n",
      "부산광역시 서대신제3동\n",
      "부산광역시 서대신제4동\n",
      "부산광역시 부민동\n",
      "부산광역시 아미동\n",
      "부산광역시 초장동\n",
      "부산광역시 충무동\n",
      "부산광역시 남부민제1동\n",
      "부산광역시 남부민제2동\n",
      "부산광역시 암남동\n",
      "부산광역시 초량제1동\n",
      "부산광역시 초량제2동\n",
      "부산광역시 초량제3동\n",
      "부산광역시 초량제6동\n",
      "부산광역시 수정제1동\n",
      "부산광역시 수정제2동\n",
      "부산광역시 수정제4동\n",
      "부산광역시 수정제5동\n",
      "부산광역시 좌천동\n",
      "부산광역시 범일제1동\n",
      "부산광역시 범일제2동\n",
      "부산광역시 범일제5동\n",
      "부산광역시 괴정제1동\n",
      "부산광역시 괴정제2동\n",
      "부산광역시 괴정제3동\n",
      "부산광역시 괴정제4동\n",
      "부산광역시 당리동\n",
      "부산광역시 하단제1동\n",
      "부산광역시 하단제2동\n",
      "부산광역시 신평제1동\n",
      "부산광역시 신평제2동\n",
      "부산광역시 장림제1동\n",
      "부산광역시 장림제2동\n",
      "부산광역시 다대제1동\n",
      "부산광역시 다대제2동\n",
      "부산광역시 구평동\n",
      "부산광역시 감천제1동\n",
      "부산광역시 감천제2동\n",
      "부산광역시 서제1동\n",
      "부산광역시 서제2동\n",
      "부산광역시 서제3동\n",
      "부산광역시 금사동\n",
      "부산광역시 부곡제1동\n",
      "부산광역시 부곡제2동\n",
      "부산광역시 부곡제3동\n",
      "부산광역시 부곡제4동\n",
      "부산광역시 장전제1동\n",
      "부산광역시 장전제2동\n",
      "부산광역시 선두구동\n",
      "부산광역시 청룡노포동\n",
      "부산광역시 남산동\n",
      "부산광역시 구서제1동\n",
      "부산광역시 구서제2동\n",
      "부산광역시 금성동\n",
      "부산광역시 대저제1동\n",
      "부산광역시 대저제2동\n",
      "부산광역시 강동동\n",
      "부산광역시 명지1동\n",
      "부산광역시 명지2동\n",
      "부산광역시 가락동\n",
      "부산광역시 녹산동\n",
      "부산광역시 가덕도동\n",
      "부산광역시 거제제1동\n",
      "부산광역시 거제제2동\n",
      "부산광역시 거제제3동\n",
      "부산광역시 거제제4동\n",
      "부산광역시 연산제1동\n",
      "부산광역시 연산제2동\n",
      "부산광역시 연산제3동\n",
      "부산광역시 연산제4동\n",
      "부산광역시 연산제5동\n",
      "부산광역시 연산제6동\n",
      "부산광역시 연산제8동\n",
      "부산광역시 연산제9동\n",
      "부산광역시 남천제1동\n",
      "부산광역시 남천제2동\n",
      "부산광역시 수영동\n",
      "부산광역시 망미제1동\n",
      "부산광역시 망미제2동\n",
      "부산광역시 광안제1동\n",
      "부산광역시 광안제2동\n",
      "부산광역시 광안제3동\n",
      "부산광역시 광안제4동\n",
      "부산광역시 민락동\n",
      "부산광역시 삼락동\n",
      "부산광역시 모라제1동\n",
      "부산광역시 모라제3동\n",
      "부산광역시 덕포제1동\n",
      "부산광역시 덕포제2동\n",
      "부산광역시 괘법동\n",
      "부산광역시 감전동\n",
      "부산광역시 주례제1동\n",
      "부산광역시 주례제2동\n",
      "부산광역시 주례제3동\n",
      "부산광역시 학장동\n",
      "부산광역시 엄궁동\n",
      "부산광역시 장안읍\n",
      "부산광역시 정관읍\n",
      "부산광역시 일광면\n",
      "부산광역시 철마면\n",
      "부산광역시 남항동\n",
      "부산광역시 영선제1동\n",
      "부산광역시 영선제2동\n",
      "부산광역시 신선동\n",
      "부산광역시 봉래제1동\n",
      "부산광역시 봉래제2동\n",
      "부산광역시 청학제1동\n",
      "부산광역시 청학제2동\n",
      "부산광역시 동삼제1동\n",
      "부산광역시 동삼제2동\n",
      "부산광역시 동삼제3동\n",
      "부산광역시 부전제1동\n",
      "부산광역시 부전제2동\n",
      "부산광역시 연지동\n",
      "부산광역시 초읍동\n",
      "부산광역시 양정제1동\n",
      "부산광역시 양정제2동\n",
      "부산광역시 전포제1동\n",
      "부산광역시 전포제2동\n",
      "부산광역시 부암제1동\n",
      "부산광역시 부암제3동\n",
      "부산광역시 당감제1동\n",
      "부산광역시 당감제2동\n",
      "부산광역시 당감제4동\n",
      "부산광역시 가야제1동\n",
      "부산광역시 가야제2동\n",
      "부산광역시 개금제1동\n",
      "부산광역시 개금제2동\n",
      "부산광역시 개금제3동\n",
      "부산광역시 범천제1동\n",
      "부산광역시 범천제2동\n",
      "부산광역시 수민동\n",
      "부산광역시 복산동\n",
      "부산광역시 명륜동\n",
      "부산광역시 온천제1동\n",
      "부산광역시 온천제2동\n",
      "부산광역시 온천제3동\n",
      "부산광역시 사직제1동\n",
      "부산광역시 사직제2동\n",
      "부산광역시 사직제3동\n",
      "부산광역시 안락제1동\n",
      "부산광역시 안락제2동\n",
      "부산광역시 명장제1동\n",
      "부산광역시 명장제2동\n",
      "부산광역시 대연제1동\n",
      "부산광역시 대연제3동\n",
      "부산광역시 대연제4동\n",
      "부산광역시 대연제5동\n",
      "부산광역시 대연제6동\n",
      "부산광역시 용호제1동\n",
      "부산광역시 용호제2동\n",
      "부산광역시 용호제3동\n",
      "부산광역시 용호제4동\n",
      "부산광역시 용당동\n",
      "부산광역시 감만제1동\n",
      "부산광역시 감만제2동\n",
      "부산광역시 우암동\n",
      "부산광역시 문현제1동\n",
      "부산광역시 문현제2동\n",
      "부산광역시 문현제3동\n",
      "부산광역시 문현제4동\n",
      "부산광역시 구포제1동\n",
      "부산광역시 구포제2동\n",
      "부산광역시 구포제3동\n",
      "부산광역시 금곡동\n",
      "부산광역시 화명제1동\n",
      "부산광역시 화명제2동\n",
      "부산광역시 화명제3동\n",
      "부산광역시 덕천제1동\n",
      "부산광역시 덕천제2동\n",
      "부산광역시 덕천제3동\n",
      "부산광역시 만덕제1동\n",
      "부산광역시 만덕제2동\n",
      "부산광역시 만덕제3동\n",
      "부산광역시 우제1동\n",
      "부산광역시 우제2동\n",
      "부산광역시 우제3동\n",
      "부산광역시 중제1동\n",
      "부산광역시 중제2동\n",
      "부산광역시 좌제1동\n",
      "부산광역시 좌제2동\n",
      "부산광역시 좌제3동\n",
      "부산광역시 좌제4동\n",
      "부산광역시 송정동\n",
      "부산광역시 반여제1동\n",
      "부산광역시 반여제2동\n",
      "부산광역시 반여제3동\n",
      "부산광역시 반여제4동\n",
      "부산광역시 반송제1동\n",
      "부산광역시 반송제2동\n",
      "부산광역시 재송제1동\n",
      "부산광역시 재송제2동\n",
      "서울특별시 동자동\n",
      "서울특별시 청파동\n",
      "서울특별시 동빙고동\n",
      "서울특별시 갈월동\n",
      "서울특별시 주성동\n",
      "서울특별시 장위동\n",
      "서울특별시 석관동\n",
      "부산광역시 토성동\n",
      "부산광역시 부용동\n",
      "부산광역시 대교동\n",
      "부산광역시 범전동\n",
      "부산광역시 낙민동\n",
      "부산광역시 복천동\n",
      "부산광역시 수안동\n",
      "부산광역시 칠산동\n",
      "부산광역시 우동\n",
      "부산광역시 좌동\n",
      "부산광역시 서동\n",
      "부산광역시 회동동\n",
      "부산광역시 신호동\n",
      "부산광역시 지사동\n",
      "부산광역시 기장읍\n",
      "부산광역시 중동\n",
      "부산광역시 대평동\n",
      "END\n"
     ]
    }
   ],
   "source": [
    "# test \n",
    "for city, gu, dong in gudong.values:\n",
    "    print(city,dong)\n",
    "    test.loc[(test['city'] == city) & (test['dong'].str.startswith(dong[:2])), 'gu'] = list(set(gudong.loc[(gudong['city'] == city) & (gudong['dong'].str.startswith(dong[:2]))]['gu']))[0]\n",
    "print(\"END\")"
   ]
  },
  {
   "cell_type": "code",
   "execution_count": 58,
   "metadata": {},
   "outputs": [
    {
     "data": {
      "text/plain": [
       "transaction_id          0\n",
       "apartment_id            0\n",
       "city                    0\n",
       "dong                    0\n",
       "exclusive_use_area      0\n",
       "year_of_completion      0\n",
       "transaction_date        0\n",
       "floor                   0\n",
       "transaction_year        0\n",
       "transaction_month       0\n",
       "gu                      0\n",
       "total_park_cnt        364\n",
       "avg_park_area         364\n",
       "dtype: int64"
      ]
     },
     "execution_count": 58,
     "metadata": {},
     "output_type": "execute_result"
    }
   ],
   "source": [
    "test_park = test.merge(park_df, 'left')\n",
    "test_park.isnull().sum()"
   ]
  },
  {
   "cell_type": "code",
   "execution_count": 59,
   "metadata": {},
   "outputs": [
    {
     "data": {
      "text/plain": [
       "{'기장군', '마포구', '성북구'}"
      ]
     },
     "execution_count": 59,
     "metadata": {},
     "output_type": "execute_result"
    }
   ],
   "source": [
    "# missing values because there are 3 missing gu info on park dataset\n",
    "set(test_park['gu']) - set(park_df.gu)"
   ]
  },
  {
   "cell_type": "code",
   "execution_count": 60,
   "metadata": {},
   "outputs": [],
   "source": [
    "#fill those NAs with median of nearby gu\n",
    "test_park.loc[test.gu=='마포구', 'total_park_cnt'] = test_park.loc[test_park.gu=='마포구'].fillna(test_park.loc[test_park.gu=='서대문구'].median())\n",
    "test_park.loc[test.gu=='마포구', 'avg_park_area'] = test_park.loc[test_park.gu=='마포구'].fillna(test_park.loc[test_park.gu=='서대문구'].median())\n",
    "\n",
    "test_park.loc[test.gu=='성북구', 'total_park_cnt'] = test_park.loc[test_park.gu=='성북구'].fillna(test_park.loc[test_park.gu=='강북구'].median())\n",
    "test_park.loc[test.gu=='성북구', 'avg_park_area'] = test_park.loc[test_park.gu=='성북구'].fillna(test_park.loc[test_park.gu=='강북구'].median())\n",
    "\n",
    "test_park.loc[test.gu=='기장군', 'total_park_cnt'] = test_park.loc[test_park.gu=='기장군'].fillna(test_park.loc[test_park.gu=='금정구'].median())\n",
    "test_park.loc[test.gu=='기장군', 'avg_park_area'] = test_park.loc[test_park.gu=='기장군'].fillna(test_park.loc[test_park.gu=='금정구'].median())"
   ]
  },
  {
   "cell_type": "code",
   "execution_count": 61,
   "metadata": {},
   "outputs": [
    {
     "data": {
      "text/plain": [
       "transaction_id            0\n",
       "apartment_id              0\n",
       "city                      0\n",
       "dong                      0\n",
       "exclusive_use_area        0\n",
       "year_of_completion        0\n",
       "transaction_date          0\n",
       "floor                     0\n",
       "transaction_year          0\n",
       "transaction_month         0\n",
       "gu                        0\n",
       "total_park_cnt            0\n",
       "avg_park_area             0\n",
       "avg_baby_per_teacher    556\n",
       "dtype: int64"
      ]
     },
     "execution_count": 61,
     "metadata": {},
     "output_type": "execute_result"
    }
   ],
   "source": [
    "test_park_day = test_park.merge(day_care_df, 'left')\n",
    "test_park_day.isnull().sum()"
   ]
  },
  {
   "cell_type": "code",
   "execution_count": 62,
   "metadata": {},
   "outputs": [
    {
     "data": {
      "text/plain": [
       "{'동대문구', '마포구', '성북구', '용산구'}"
      ]
     },
     "execution_count": 62,
     "metadata": {},
     "output_type": "execute_result"
    }
   ],
   "source": [
    "# missing values because there are 4 missing gu info on day care center dataset\n",
    "set(test_park_day.gu) - set(day_care_df.gu)"
   ]
  },
  {
   "cell_type": "code",
   "execution_count": 63,
   "metadata": {},
   "outputs": [],
   "source": [
    "#fill those NAs with median of nearby gu\n",
    "test_park_day.loc[test_park_day.gu=='동대문구', 'avg_baby_per_teacher'] = test_park_day.loc[test_park_day.gu=='동대문구'].fillna(test_park_day.loc[test_park_day.gu=='성동구'].median())\n",
    "test_park_day.loc[test_park_day.gu=='마포구', 'avg_baby_per_teacher'] = test_park_day.loc[test_park_day.gu=='마포구'].fillna(test_park_day.loc[test_park_day.gu=='서대문구'].median())\n",
    "test_park_day.loc[test_park_day.gu=='성북구', 'avg_baby_per_teacher'] = test_park_day.loc[test_park_day.gu=='성북구'].fillna(test_park_day.loc[test_park_day.gu=='도봉구'].median())\n",
    "test_park_day.loc[test_park_day.gu=='용산구', 'avg_baby_per_teacher'] = test_park_day.loc[test_park_day.gu=='용산구'].fillna(test_park_day.loc[test_park_day.gu=='동작구'].median())"
   ]
  },
  {
   "cell_type": "code",
   "execution_count": 64,
   "metadata": {},
   "outputs": [
    {
     "data": {
      "text/plain": [
       "transaction_id          0\n",
       "apartment_id            0\n",
       "city                    0\n",
       "dong                    0\n",
       "exclusive_use_area      0\n",
       "year_of_completion      0\n",
       "transaction_date        0\n",
       "floor                   0\n",
       "transaction_year        0\n",
       "transaction_month       0\n",
       "gu                      0\n",
       "total_park_cnt          0\n",
       "avg_park_area           0\n",
       "avg_baby_per_teacher    0\n",
       "dtype: int64"
      ]
     },
     "execution_count": 64,
     "metadata": {},
     "output_type": "execute_result"
    }
   ],
   "source": [
    "test_park_day.isnull().sum()"
   ]
  },
  {
   "cell_type": "code",
   "execution_count": 65,
   "metadata": {},
   "outputs": [
    {
     "name": "stdout",
     "output_type": "stream",
     "text": [
      "서울특별시 양천구 목동\n",
      "부산광역시 동구 초량동\n",
      "부산광역시 사하구 괴정동\n",
      "서울특별시 강남구 대치동\n",
      "부산광역시 사하구 다대동\n",
      "부산광역시 부산진구 양정동\n",
      "서울특별시 강서구 염창동\n",
      "서울특별시 강동구 암사동\n",
      "서울특별시 양천구 신정동\n",
      "서울특별시 송파구 장지동\n",
      "서울특별시 동대문구 답십리동\n",
      "서울특별시 송파구 가락동\n",
      "서울특별시 영등포구 여의도동\n",
      "부산광역시 사상구 엄궁동\n",
      "부산광역시 북구 화명동\n",
      "부산광역시 부산진구 부암동\n",
      "서울특별시 강동구 길동\n",
      "서울특별시 구로구 고척동\n",
      "서울특별시 용산구 산천동\n",
      "서울특별시 강남구 개포동\n",
      "서울특별시 송파구 문정동\n",
      "서울특별시 은평구 수색동\n",
      "서울특별시 노원구 상계동\n",
      "부산광역시 해운대구 반송동\n",
      "서울특별시 구로구 구로동\n",
      "부산광역시 영도구 동삼동\n",
      "부산광역시 해운대구 좌동\n",
      "부산광역시 사하구 장림동\n",
      "서울특별시 성동구 금호동3가\n",
      "서울특별시 서초구 잠원동\n",
      "서울특별시 양천구 신월동\n",
      "서울특별시 은평구 역촌동\n",
      "서울특별시 강남구 자곡동\n",
      "서울특별시 강서구 화곡동\n",
      "부산광역시 기장군 기장읍 대라리\n",
      "서울특별시 강서구 방화동\n",
      "서울특별시 성북구 길음동\n",
      "부산광역시 해운대구 우동\n",
      "서울특별시 관악구 신림동\n",
      "서울특별시 강서구 등촌동\n",
      "서울특별시 서초구 양재동\n",
      "부산광역시 사하구 하단동\n",
      "서울특별시 강남구 수서동\n",
      "서울특별시 서초구 방배동\n",
      "서울특별시 마포구 신수동\n",
      "서울특별시 마포구 아현동\n",
      "서울특별시 용산구 이촌동\n",
      "서울특별시 성북구 정릉동\n",
      "서울특별시 서대문구 북가좌동\n",
      "서울특별시 성동구 하왕십리동\n",
      "부산광역시 남구 대연동\n",
      "부산광역시 수영구 광안동\n",
      "서울특별시 강남구 청담동\n",
      "부산광역시 북구 금곡동\n",
      "부산광역시 금정구 남산동\n",
      "서울특별시 성동구 금호동1가\n",
      "서울특별시 중랑구 망우동\n",
      "부산광역시 연제구 거제동\n",
      "서울특별시 성동구 행당동\n",
      "서울특별시 강남구 삼성동\n",
      "서울특별시 마포구 중동\n",
      "서울특별시 용산구 한남동\n",
      "서울특별시 중구 신당동\n",
      "부산광역시 부산진구 당감동\n",
      "서울특별시 용산구 효창동\n",
      "서울특별시 광진구 광장동\n",
      "서울특별시 성동구 사근동\n",
      "서울특별시 도봉구 도봉동\n",
      "서울특별시 송파구 신천동\n",
      "서울특별시 강남구 역삼동\n",
      "서울특별시 광진구 자양동\n",
      "서울특별시 성북구 종암동\n",
      "서울특별시 은평구 응암동\n",
      "서울특별시 강남구 도곡동\n",
      "서울특별시 은평구 증산동\n",
      "서울특별시 강서구 가양동\n",
      "서울특별시 광진구 구의동\n",
      "부산광역시 금정구 장전동\n",
      "서울특별시 관악구 봉천동\n",
      "서울특별시 강서구 공항동\n",
      "부산광역시 수영구 수영동\n",
      "서울특별시 금천구 시흥동\n",
      "부산광역시 해운대구 반여동\n",
      "부산광역시 금정구 부곡동\n",
      "서울특별시 동작구 사당동\n",
      "서울특별시 강동구 성내동\n",
      "서울특별시 성북구 돈암동\n",
      "서울특별시 동대문구 장안동\n",
      "서울특별시 동대문구 이문동\n",
      "서울특별시 종로구 창신동\n",
      "서울특별시 노원구 월계동\n",
      "부산광역시 동래구 수안동\n",
      "서울특별시 중랑구 면목동\n",
      "서울특별시 동작구 대방동\n",
      "서울특별시 종로구 평창동\n",
      "부산광역시 부산진구 전포동\n",
      "서울특별시 노원구 중계동\n",
      "서울특별시 서초구 압구정동\n",
      "부산광역시 금정구 청룡동\n",
      "서울특별시 송파구 방이동\n",
      "서울특별시 동대문구 제기동\n",
      "부산광역시 동구 범일동\n",
      "서울특별시 서초구 우면동\n",
      "서울특별시 영등포구 영등포동7가\n",
      "서울특별시 강동구 강일동\n",
      "부산광역시 북구 구포동\n",
      "부산광역시 사상구 모라동\n",
      "서울특별시 강남구 논현동\n",
      "부산광역시 부산진구 범천동\n",
      "서울특별시 영등포구 당산동3가\n",
      "부산광역시 연제구 연산동\n",
      "서울특별시 강동구 천호동\n",
      "부산광역시 수영구 남천동\n",
      "부산광역시 남구 문현동\n",
      "부산광역시 남구 용호동\n",
      "서울특별시 동대문구 전농동\n",
      "부산광역시 동구 좌천동\n",
      "부산광역시 기장군 기장읍 교리\n",
      "부산광역시 영도구 영선동4가\n",
      "부산광역시 해운대구 재송동\n",
      "부산광역시 동래구 명장동\n",
      "서울특별시 구로구 오류동\n",
      "서울특별시 도봉구 방학동\n",
      "부산광역시 금정구 회동동\n",
      "서울특별시 은평구 신사동\n",
      "서울특별시 금천구 독산동\n",
      "서울특별시 송파구 잠실동\n",
      "부산광역시 서구 부민동1가\n",
      "부산광역시 기장군 기장읍 동부리\n",
      "부산광역시 부산진구 가야동\n",
      "부산광역시 강서구 지사동\n",
      "부산광역시 영도구 영선동3가\n",
      "서울특별시 구로구 개봉동\n",
      "서울특별시 종로구 사직동\n",
      "서울특별시 강동구 고덕동\n",
      "서울특별시 강서구 내발산동\n",
      "서울특별시 성북구 하월곡동\n",
      "부산광역시 영도구 남항동3가\n",
      "서울특별시 서초구 반포동\n",
      "부산광역시 동래구 명륜동\n",
      "서울특별시 영등포구 대림동\n",
      "서울특별시 도봉구 쌍문동\n",
      "서울특별시 성동구 성수동2가\n",
      "서울특별시 강북구 우이동\n",
      "서울특별시 영등포구 당산동5가\n",
      "부산광역시 사하구 신평동\n",
      "서울특별시 영등포구 당산동\n",
      "서울특별시 강동구 둔촌동\n",
      "서울특별시 은평구 구산동\n",
      "서울특별시 마포구 대흥동\n",
      "서울특별시 구로구 온수동\n",
      "서울특별시 동작구 본동\n",
      "부산광역시 기장군 정관읍 용수리\n",
      "서울특별시 노원구 공릉동\n",
      "서울특별시 서대문구 홍은동\n",
      "서울특별시 성동구 금호동4가\n",
      "서울특별시 은평구 대조동\n",
      "서울특별시 영등포구 문래동6가\n",
      "서울특별시 종로구 당주동\n",
      "서울특별시 강북구 번동\n",
      "서울특별시 종로구 무악동\n",
      "서울특별시 용산구 동자동\n",
      "부산광역시 사상구 학장동\n",
      "서울특별시 성북구 안암동4가\n",
      "부산광역시 서구 서대신동3가\n",
      "서울특별시 중구 황학동\n",
      "서울특별시 구로구 항동\n",
      "서울특별시 강북구 미아동\n",
      "부산광역시 기장군 정관읍 매학리\n",
      "서울특별시 용산구 한강로1가\n",
      "서울특별시 성북구 장위동\n",
      "서울특별시 강동구 명일동\n",
      "부산광역시 서구 암남동\n",
      "서울특별시 강남구 일원동\n",
      "서울특별시 중랑구 묵동\n",
      "부산광역시 기장군 장안읍 좌천리\n",
      "서울특별시 영등포구 신길동\n",
      "서울특별시 은평구 녹번동\n",
      "서울특별시 성동구 성수동1가\n",
      "서울특별시 강서구 마곡동\n",
      "서울특별시 성동구 응봉동\n",
      "서울특별시 서초구 서초동\n",
      "부산광역시 금정구 구서동\n",
      "서울특별시 노원구 하계동\n",
      "서울특별시 중구 회현동1가\n",
      "서울특별시 중랑구 신내동\n",
      "서울특별시 강북구 수유동\n",
      "부산광역시 동래구 온천동\n",
      "서울특별시 마포구 도화동\n",
      "서울특별시 마포구 망원동\n",
      "부산광역시 기장군 정관읍 모전리\n",
      "부산광역시 사하구 당리동\n",
      "서울특별시 서대문구 남가좌동\n",
      "서울특별시 관악구 남현동\n",
      "서울특별시 강남구 율현동\n",
      "부산광역시 남구 용당동\n",
      "부산광역시 사상구 주례동\n",
      "서울특별시 도봉구 창동\n",
      "서울특별시 동작구 상도동\n",
      "부산광역시 수영구 망미동\n",
      "서울특별시 서대문구 연희동\n",
      "서울특별시 성동구 금호동2가\n",
      "서울특별시 구로구 궁동\n",
      "서울특별시 영등포구 당산동2가\n",
      "서울특별시 용산구 신계동\n",
      "서울특별시 종로구 숭인동\n",
      "서울특별시 영등포구 양평동3가\n",
      "부산광역시 강서구 명지동\n",
      "부산광역시 사상구 괘법동\n",
      "서울특별시 마포구 염리동\n",
      "부산광역시 해운대구 송정동\n",
      "부산광역시 서구 토성동5가\n",
      "부산광역시 사하구 구평동\n",
      "서울특별시 송파구 삼전동\n",
      "서울특별시 성동구 옥수동\n",
      "서울특별시 동작구 신대방동\n",
      "부산광역시 북구 만덕동\n",
      "부산광역시 북구 덕천동\n",
      "서울특별시 중랑구 중화동\n",
      "서울특별시 영등포구 양평동2가\n",
      "서울특별시 구로구 신도림동\n",
      "서울특별시 동대문구 휘경동\n",
      "부산광역시 영도구 영선동2가\n",
      "서울특별시 마포구 성산동\n",
      "부산광역시 부산진구 개금동\n",
      "부산광역시 동래구 사직동\n",
      "부산광역시 동래구 복천동\n",
      "부산광역시 사상구 덕포동\n",
      "서울특별시 성북구 안암동1가\n",
      "서울특별시 종로구 부암동\n",
      "서울특별시 영등포구 문래동3가\n",
      "서울특별시 영등포구 양평동4가\n",
      "부산광역시 부산진구 부전동\n",
      "서울특별시 동작구 노량진동\n",
      "부산광역시 금정구 서동\n",
      "서울특별시 강동구 상일동\n",
      "부산광역시 영도구 봉래동5가\n",
      "서울특별시 동대문구 용두동\n",
      "서울특별시 성북구 보문동3가\n",
      "서울특별시 중랑구 상봉동\n",
      "서울특별시 마포구 용강동\n",
      "부산광역시 영도구 청학동\n",
      "서울특별시 용산구 원효로1가\n",
      "부산광역시 서구 토성동2가\n",
      "서울특별시 영등포구 문래동2가\n",
      "서울특별시 은평구 진관동\n",
      "부산광역시 사하구 감천동\n",
      "부산광역시 중구 대청동4가\n",
      "서울특별시 마포구 신공덕동\n",
      "부산광역시 영도구 대교동2가\n",
      "부산광역시 기장군 기장읍 대변리\n",
      "서울특별시 송파구 풍납동\n",
      "부산광역시 부산진구 연지동\n",
      "서울특별시 송파구 오금동\n",
      "서울특별시 서대문구 홍제동\n",
      "서울특별시 용산구 용산동5가\n",
      "서울특별시 은평구 불광동\n",
      "서울특별시 서대문구 냉천동\n",
      "서울특별시 서대문구 북아현동\n",
      "서울특별시 마포구 합정동\n",
      "서울특별시 중구 남대문로5가\n",
      "서울특별시 영등포구 도림동\n",
      "부산광역시 해운대구 중동\n",
      "서울특별시 종로구 명륜1가\n",
      "서울특별시 광진구 화양동\n",
      "서울특별시 용산구 보광동\n",
      "서울특별시 은평구 갈현동\n",
      "서울특별시 성북구 성북동\n",
      "서울특별시 마포구 현석동\n",
      "서울특별시 종로구 익선동\n",
      "부산광역시 수영구 민락동\n",
      "서울특별시 구로구 천왕동\n",
      "부산광역시 영도구 대평동1가\n",
      "부산광역시 동구 수정동\n",
      "서울특별시 송파구 마천동\n",
      "부산광역시 기장군 기장읍 내리\n",
      "서울특별시 성북구 보문동6가\n",
      "부산광역시 남구 감만동\n",
      "부산광역시 서구 서대신동2가\n",
      "서울특별시 용산구 이태원동\n",
      "부산광역시 서구 토성동1가\n",
      "부산광역시 영도구 봉래동1가\n",
      "서울특별시 성동구 용답동\n",
      "부산광역시 중구 영주동\n",
      "서울특별시 용산구 한강로2가\n",
      "서울특별시 성북구 동소문동7가\n",
      "서울특별시 송파구 거여동\n",
      "서울특별시 용산구 한강로3가\n",
      "서울특별시 송파구 송파동\n",
      "부산광역시 동래구 안락동\n",
      "부산광역시 동래구 낙민동\n",
      "서울특별시 서초구 내곡동\n",
      "부산광역시 남구 우암동\n",
      "서울특별시 영등포구 당산동4가\n",
      "서울특별시 동작구 동작동\n",
      "서울특별시 서대문구 충정로3가\n",
      "서울특별시 동작구 흑석동\n",
      "서울특별시 성동구 마장동\n",
      "서울특별시 영등포구 영등포동4가\n",
      "서울특별시 동작구 상도1동\n",
      "서울특별시 동대문구 청량리동\n",
      "서울특별시 용산구 문배동\n",
      "서울특별시 마포구 창전동\n",
      "서울특별시 용산구 후암동\n",
      "서울특별시 성북구 석관동\n",
      "서울특별시 영등포구 당산동1가\n",
      "서울특별시 영등포구 영등포동\n",
      "서울특별시 성북구 삼선동3가\n",
      "서울특별시 마포구 공덕동\n",
      "서울특별시 종로구 필운동\n",
      "서울특별시 성북구 상월곡동\n",
      "서울특별시 성북구 동선동4가\n",
      "서울특별시 서초구 신원동\n",
      "부산광역시 서구 서대신동1가\n",
      "서울특별시 마포구 상암동\n",
      "부산광역시 서구 충무동1가\n",
      "서울특별시 송파구 석촌동\n",
      "부산광역시 영도구 남항동1가\n",
      "서울특별시 종로구 신영동\n",
      "부산광역시 부산진구 초읍동\n",
      "부산광역시 부산진구 범전동\n",
      "부산광역시 중구 대청동1가\n",
      "서울특별시 마포구 상수동\n",
      "서울특별시 서대문구 충정로2가\n",
      "서울특별시 용산구 원효로4가\n",
      "부산광역시 서구 동대신동2가\n",
      "서울특별시 강남구 세곡동\n",
      "부산광역시 중구 부평동4가\n",
      "부산광역시 중구 보수동3가\n",
      "부산광역시 기장군 정관읍 방곡리\n",
      "서울특별시 중구 중림동\n",
      "서울특별시 중구 만리동1가\n",
      "서울특별시 서대문구 대현동\n",
      "부산광역시 중구 동광동5가\n",
      "서울특별시 금천구 가산동\n",
      "부산광역시 영도구 신선동2가\n",
      "서울특별시 종로구 인의동\n",
      "서울특별시 성동구 상왕십리동\n",
      "서울특별시 마포구 서교동\n",
      "부산광역시 서구 부용동1가\n",
      "서울특별시 성북구 동선동3가\n",
      "서울특별시 마포구 하중동\n",
      "서울특별시 마포구 연남동\n",
      "서울특별시 영등포구 영등포동8가\n",
      "부산광역시 영도구 신선동3가\n",
      "서울특별시 용산구 신창동\n",
      "서울특별시 용산구 청파동3가\n",
      "서울특별시 동대문구 회기동\n",
      "부산광역시 서구 아미동2가\n",
      "서울특별시 용산구 도원동\n",
      "서울특별시 용산구 서빙고동\n",
      "서울특별시 성북구 삼선동4가\n",
      "서울특별시 마포구 마포동\n",
      "서울특별시 영등포구 문래동4가\n",
      "서울특별시 영등포구 영등포동3가\n",
      "서울특별시 종로구 신교동\n",
      "부산광역시 기장군 일광면 이천리\n",
      "서울특별시 서대문구 영천동\n",
      "부산광역시 서구 부민동3가\n",
      "서울특별시 마포구 토정동\n",
      "부산광역시 서구 동대신동3가\n",
      "서울특별시 영등포구 영등포동1가\n",
      "서울특별시 중구 장충동1가\n",
      "부산광역시 중구 부평동2가\n",
      "부산광역시 서구 충무동2가\n",
      "서울특별시 광진구 군자동\n",
      "서울특별시 종로구 이화동\n",
      "서울특별시 광진구 중곡동\n",
      "서울특별시 종로구 행촌동\n",
      "부산광역시 영도구 대교동1가\n",
      "서울특별시 구로구 가리봉동\n",
      "부산광역시 영도구 봉래동3가\n",
      "부산광역시 서구 동대신동1가\n",
      "서울특별시 영등포구 문래동5가\n",
      "서울특별시 영등포구 양평동5가\n",
      "서울특별시 서대문구 현저동\n",
      "서울특별시 용산구 갈월동\n",
      "서울특별시 중구 을지로5가\n",
      "서울특별시 종로구 청운동\n",
      "서울특별시 용산구 원효로2가\n",
      "부산광역시 중구 보수동2가\n",
      "서울특별시 중구 충무로4가\n",
      "서울특별시 중구 흥인동\n",
      "부산광역시 중구 보수동1가\n",
      "서울특별시 서대문구 창천동\n",
      "서울특별시 성동구 송정동\n",
      "부산광역시 기장군 철마면 고촌리\n",
      "서울특별시 성동구 홍익동\n",
      "서울특별시 영등포구 당산동6가\n",
      "부산광역시 금정구 금사동\n",
      "부산광역시 사상구 감전동\n",
      "서울특별시 마포구 노고산동\n",
      "서울특별시 종로구 명륜2가\n",
      "서울특별시 성북구 안암동3가\n",
      "END\n"
     ]
    }
   ],
   "source": [
    "# train\n",
    "for city, gu, dong in test[['city','gu','dong']].drop_duplicates().values:\n",
    "    print(city,gu,dong)\n",
    "    train.loc[(train.city == city) & (train.dong == dong), 'gu'] = gu\n",
    "print(\"END\")"
   ]
  },
  {
   "cell_type": "code",
   "execution_count": 66,
   "metadata": {},
   "outputs": [
    {
     "data": {
      "text/plain": [
       "transaction_id            0\n",
       "apartment_id              0\n",
       "city                      0\n",
       "dong                      0\n",
       "exclusive_use_area        0\n",
       "year_of_completion        0\n",
       "transaction_date          0\n",
       "floor                     0\n",
       "transaction_real_price    0\n",
       "transaction_year          0\n",
       "transaction_month         0\n",
       "gu                        0\n",
       "dtype: int64"
      ]
     },
     "execution_count": 66,
     "metadata": {},
     "output_type": "execute_result"
    }
   ],
   "source": [
    "train.isnull().sum()"
   ]
  },
  {
   "cell_type": "code",
   "execution_count": 67,
   "metadata": {},
   "outputs": [
    {
     "data": {
      "text/plain": [
       "transaction_id                0\n",
       "apartment_id                  0\n",
       "city                          0\n",
       "dong                          0\n",
       "exclusive_use_area            0\n",
       "year_of_completion            0\n",
       "transaction_date              0\n",
       "floor                         0\n",
       "transaction_real_price        0\n",
       "transaction_year              0\n",
       "transaction_month             0\n",
       "gu                            0\n",
       "total_park_cnt            78740\n",
       "avg_park_area             78740\n",
       "dtype: int64"
      ]
     },
     "execution_count": 67,
     "metadata": {},
     "output_type": "execute_result"
    }
   ],
   "source": [
    "train_park = train.merge(park_df, 'left')\n",
    "train_park.isnull().sum()"
   ]
  },
  {
   "cell_type": "code",
   "execution_count": 68,
   "metadata": {},
   "outputs": [
    {
     "data": {
      "text/plain": [
       "{'기장군', '마포구', '성북구'}"
      ]
     },
     "execution_count": 68,
     "metadata": {},
     "output_type": "execute_result"
    }
   ],
   "source": [
    "# missing values because there are 3 missing gu info on park dataset\n",
    "set(train_park['gu']) - set(park_df.gu)"
   ]
  },
  {
   "cell_type": "code",
   "execution_count": 69,
   "metadata": {},
   "outputs": [],
   "source": [
    "#fill those NAs with median of nearby gu\n",
    "train_park.loc[train_park.gu=='기장군', 'total_park_cnt'] = train_park.loc[train_park.gu=='기장군'].fillna(train_park.loc[train_park.gu=='북구'].median())\n",
    "train_park.loc[train_park.gu=='기장군', 'avg_park_area'] = train_park.loc[train_park.gu=='기장군'].fillna(train_park.loc[train_park.gu=='북구'].median())\n",
    "\n",
    "train_park.loc[train_park.gu=='마포구', 'total_park_cnt'] = train_park.loc[train_park.gu=='마포구'].fillna(train_park.loc[train_park.gu=='서대문구'].median())\n",
    "train_park.loc[train_park.gu=='마포구', 'avg_park_area'] = train_park.loc[train_park.gu=='마포구'].fillna(train_park.loc[train_park.gu=='서대문구'].median())\n",
    "\n",
    "\n",
    "train_park.loc[train_park.gu=='성북구', 'total_park_cnt'] = train_park.loc[train_park.gu=='성북구'].fillna(train_park.loc[train_park.gu=='도봉구'].median())\n",
    "train_park.loc[train_park.gu=='성북구', 'avg_park_area'] = train_park.loc[train_park.gu=='성북구'].fillna(train_park.loc[train_park.gu=='도봉구'].median())"
   ]
  },
  {
   "cell_type": "code",
   "execution_count": 70,
   "metadata": {},
   "outputs": [
    {
     "data": {
      "text/plain": [
       "transaction_id            0\n",
       "apartment_id              0\n",
       "city                      0\n",
       "dong                      0\n",
       "exclusive_use_area        0\n",
       "year_of_completion        0\n",
       "transaction_date          0\n",
       "floor                     0\n",
       "transaction_real_price    0\n",
       "transaction_year          0\n",
       "transaction_month         0\n",
       "gu                        0\n",
       "total_park_cnt            0\n",
       "avg_park_area             0\n",
       "dtype: int64"
      ]
     },
     "execution_count": 70,
     "metadata": {},
     "output_type": "execute_result"
    }
   ],
   "source": [
    "train_park.isnull().sum()"
   ]
  },
  {
   "cell_type": "code",
   "execution_count": 71,
   "metadata": {},
   "outputs": [
    {
     "data": {
      "text/plain": [
       "transaction_id                 0\n",
       "apartment_id                   0\n",
       "city                           0\n",
       "dong                           0\n",
       "exclusive_use_area             0\n",
       "year_of_completion             0\n",
       "transaction_date               0\n",
       "floor                          0\n",
       "transaction_real_price         0\n",
       "transaction_year               0\n",
       "transaction_month              0\n",
       "gu                             0\n",
       "total_park_cnt                 0\n",
       "avg_park_area                  0\n",
       "avg_baby_per_teacher      100257\n",
       "dtype: int64"
      ]
     },
     "execution_count": 71,
     "metadata": {},
     "output_type": "execute_result"
    }
   ],
   "source": [
    "train_park_day = train_park.merge(day_care_df, 'left')\n",
    "train_park_day.isnull().sum()"
   ]
  },
  {
   "cell_type": "code",
   "execution_count": 72,
   "metadata": {},
   "outputs": [
    {
     "data": {
      "text/plain": [
       "{'동대문구', '마포구', '성북구', '용산구'}"
      ]
     },
     "execution_count": 72,
     "metadata": {},
     "output_type": "execute_result"
    }
   ],
   "source": [
    "# missing values because there are 4 missing gu info on day care center dataset\n",
    "set(test_park_day.gu) - set(day_care_df.gu)"
   ]
  },
  {
   "cell_type": "code",
   "execution_count": 73,
   "metadata": {},
   "outputs": [],
   "source": [
    "#fill those NAs with median of nearby gu\n",
    "train_park_day.loc[train_park_day.gu=='동대문구', 'avg_baby_per_teacher'] = train_park_day.loc[train_park_day.gu=='동대문구'].fillna(train_park_day.loc[train_park_day.gu=='성동구'].median())\n",
    "train_park_day.loc[train_park_day.gu=='마포구', 'avg_baby_per_teacher'] = train_park_day.loc[train_park_day.gu=='마포구'].fillna(train_park_day.loc[train_park_day.gu=='서대문구'].median())\n",
    "train_park_day.loc[train_park_day.gu=='성북구', 'avg_baby_per_teacher'] = train_park_day.loc[train_park_day.gu=='성북구'].fillna(train_park_day.loc[train_park_day.gu=='도봉구'].median())\n",
    "train_park_day.loc[train_park_day.gu=='용산구', 'avg_baby_per_teacher'] = train_park_day.loc[train_park_day.gu=='용산구'].fillna(train_park_day.loc[train_park_day.gu=='동작구'].median())"
   ]
  },
  {
   "cell_type": "code",
   "execution_count": 74,
   "metadata": {},
   "outputs": [
    {
     "data": {
      "text/plain": [
       "transaction_id            0\n",
       "apartment_id              0\n",
       "city                      0\n",
       "dong                      0\n",
       "exclusive_use_area        0\n",
       "year_of_completion        0\n",
       "transaction_date          0\n",
       "floor                     0\n",
       "transaction_real_price    0\n",
       "transaction_year          0\n",
       "transaction_month         0\n",
       "gu                        0\n",
       "total_park_cnt            0\n",
       "avg_park_area             0\n",
       "avg_baby_per_teacher      0\n",
       "dtype: int64"
      ]
     },
     "execution_count": 74,
     "metadata": {},
     "output_type": "execute_result"
    }
   ],
   "source": [
    "train_park_day.isnull().sum()"
   ]
  },
  {
   "cell_type": "markdown",
   "metadata": {},
   "source": [
    "need to find gu info in day_care_center\n",
    "need to group by day_care_center, and park datasets into train/test."
   ]
  },
  {
   "cell_type": "code",
   "execution_count": 77,
   "metadata": {},
   "outputs": [
    {
     "name": "stdout",
     "output_type": "stream",
     "text": [
      "(1204685, 513)\n",
      "(5463, 502)\n"
     ]
    }
   ],
   "source": [
    "# one-hot encodings\n",
    "train = pd.get_dummies(train_park_day, columns=['city','gu','dong','year_of_completion',\n",
    "                                                      'transaction_year','transaction_month','transaction_date'])\n",
    "train = train.set_index('transaction_id')\n",
    "print(train.shape)\n",
    "\n",
    "test = pd.get_dummies(test_park_day, columns=['city','gu','dong','year_of_completion',\n",
    "                                                    'transaction_year','transaction_month','transaction_date'])\n",
    "test = test.set_index('transaction_id')\n",
    "print(test.shape)\n",
    "\n",
    "# drop columns\n",
    "train = train.drop(['apartment_id'], axis=1)\n",
    "test = test.drop(['apartment_id'], axis=1)"
   ]
  },
  {
   "cell_type": "markdown",
   "metadata": {},
   "source": [
    "# Data Modeling"
   ]
  },
  {
   "cell_type": "code",
   "execution_count": 84,
   "metadata": {},
   "outputs": [],
   "source": [
    "from sklearn.preprocessing import StandardScaler\n",
    "from sklearn.model_selection import train_test_split, GridSearchCV, RandomizedSearchCV\n",
    "from sklearn.metrics import mean_squared_error, roc_auc_score, classification_report"
   ]
  },
  {
   "cell_type": "markdown",
   "metadata": {},
   "source": [
    "Actually, test should be validation set. I will split the train dataset into train and test as it has enough observations."
   ]
  },
  {
   "cell_type": "code",
   "execution_count": 82,
   "metadata": {},
   "outputs": [],
   "source": [
    "# Data Split\n",
    "final_train = train.drop('transaction_real_price', axis=1)\n",
    "final_test = train['transaction_real_price']\n",
    "\n",
    "X_train, X_val, y_train, y_val = train_test_split(final_train, final_test, test_size=0.3, random_state=101)"
   ]
  },
  {
   "cell_type": "code",
   "execution_count": 83,
   "metadata": {},
   "outputs": [],
   "source": [
    "# GridSearch Plot\n",
    "def grid_score_plot(df,col,train,test,title,xlabel,ylabel,annot=True):\n",
    "    fig = plt.figure(figsize=(10,6))\n",
    "    x=len(df[col])\n",
    "    x_label=df[col].unique()\n",
    "    ax = fig.add_subplot(111, facecolor='white')\n",
    "    ax.plot(df[col], df[train], c ='b', linewidth=2, alpha=0.6, label='Train Score',marker='o')\n",
    "    ax.plot(df[col], df[test], c ='r', linewidth=2, alpha=0.6, label='Test Score', marker='o')\n",
    "    ax.legend()\n",
    "    if(annot==True):\n",
    "        for i,j in zip(df[col],round(df[train],3)):\n",
    "            ax.annotate(str(j),xy=(i,j),color='gray')\n",
    "        for i,j in zip(df[col],round(df[test],3)):\n",
    "            ax.annotate(str(j),xy=(i,j),color='gray')\n",
    "    ax.set_title(title, fontsize=20)\n",
    "    ax.set_xlabel(xlabel, fontsize=10)\n",
    "    ax.set_ylabel(ylabel, fontsize=10)\n",
    "    plt.grid(zorder=0)\n",
    "    plt.show()"
   ]
  },
  {
   "cell_type": "markdown",
   "metadata": {},
   "source": [
    "### RandomForest"
   ]
  },
  {
   "cell_type": "code",
   "execution_count": 79,
   "metadata": {},
   "outputs": [
    {
     "name": "stdout",
     "output_type": "stream",
     "text": [
      "Fitting 5 folds for each of 10 candidates, totalling 50 fits\n",
      "[CV] n_estimators=9, max_features=9 ..................................\n"
     ]
    },
    {
     "name": "stderr",
     "output_type": "stream",
     "text": [
      "[Parallel(n_jobs=1)]: Using backend SequentialBackend with 1 concurrent workers.\n"
     ]
    },
    {
     "name": "stdout",
     "output_type": "stream",
     "text": [
      "[CV]  n_estimators=9, max_features=9, score=(train=-12576610.018, test=-56172229.335), total= 1.7min\n",
      "[CV] n_estimators=9, max_features=9 ..................................\n"
     ]
    },
    {
     "name": "stderr",
     "output_type": "stream",
     "text": [
      "[Parallel(n_jobs=1)]: Done   1 out of   1 | elapsed:  1.9min remaining:    0.0s\n"
     ]
    },
    {
     "name": "stdout",
     "output_type": "stream",
     "text": [
      "[CV]  n_estimators=9, max_features=9, score=(train=-13333938.702, test=-61579828.318), total= 1.6min\n",
      "[CV] n_estimators=9, max_features=9 ..................................\n"
     ]
    },
    {
     "name": "stderr",
     "output_type": "stream",
     "text": [
      "[Parallel(n_jobs=1)]: Done   2 out of   2 | elapsed:  3.6min remaining:    0.0s\n"
     ]
    },
    {
     "name": "stdout",
     "output_type": "stream",
     "text": [
      "[CV]  n_estimators=9, max_features=9, score=(train=-12748742.329, test=-64043198.872), total= 1.6min\n",
      "[CV] n_estimators=9, max_features=9 ..................................\n",
      "[CV]  n_estimators=9, max_features=9, score=(train=-12701111.241, test=-63085178.574), total= 1.7min\n",
      "[CV] n_estimators=9, max_features=9 ..................................\n",
      "[CV]  n_estimators=9, max_features=9, score=(train=-12994136.463, test=-61524540.332), total= 1.6min\n",
      "[CV] n_estimators=6, max_features=15 .................................\n",
      "[CV]  n_estimators=6, max_features=15, score=(train=-14031825.807, test=-56125135.221), total= 1.0min\n",
      "[CV] n_estimators=6, max_features=15 .................................\n",
      "[CV]  n_estimators=6, max_features=15, score=(train=-13916076.785, test=-58926735.142), total= 1.1min\n",
      "[CV] n_estimators=6, max_features=15 .................................\n",
      "[CV]  n_estimators=6, max_features=15, score=(train=-14267016.768, test=-64698401.561), total= 1.1min\n",
      "[CV] n_estimators=6, max_features=15 .................................\n",
      "[CV]  n_estimators=6, max_features=15, score=(train=-14190169.692, test=-65824367.603), total= 1.4min\n",
      "[CV] n_estimators=6, max_features=15 .................................\n",
      "[CV]  n_estimators=6, max_features=15, score=(train=-15125052.556, test=-62048165.023), total= 1.1min\n",
      "[CV] n_estimators=6, max_features=6 ..................................\n",
      "[CV]  n_estimators=6, max_features=6, score=(train=-16716789.668, test=-69226874.421), total= 1.1min\n",
      "[CV] n_estimators=6, max_features=6 ..................................\n",
      "[CV]  n_estimators=6, max_features=6, score=(train=-15612306.228, test=-65570094.229), total= 1.2min\n",
      "[CV] n_estimators=6, max_features=6 ..................................\n",
      "[CV]  n_estimators=6, max_features=6, score=(train=-15544408.798, test=-68398132.956), total= 1.1min\n",
      "[CV] n_estimators=6, max_features=6 ..................................\n",
      "[CV]  n_estimators=6, max_features=6, score=(train=-15618851.123, test=-71140463.387), total= 1.1min\n",
      "[CV] n_estimators=6, max_features=6 ..................................\n",
      "[CV]  n_estimators=6, max_features=6, score=(train=-15827776.527, test=-66592994.583), total= 1.5min\n",
      "[CV] n_estimators=30, max_features=9 .................................\n",
      "[CV]  n_estimators=30, max_features=9, score=(train=-9092168.076, test=-52373563.403), total= 4.8min\n",
      "[CV] n_estimators=30, max_features=9 .................................\n",
      "[CV]  n_estimators=30, max_features=9, score=(train=-9310210.799, test=-56101317.628), total= 5.6min\n",
      "[CV] n_estimators=30, max_features=9 .................................\n",
      "[CV]  n_estimators=30, max_features=9, score=(train=-9012318.438, test=-57921294.990), total= 5.1min\n",
      "[CV] n_estimators=30, max_features=9 .................................\n",
      "[CV]  n_estimators=30, max_features=9, score=(train=-8841246.273, test=-56539368.714), total= 5.8min\n",
      "[CV] n_estimators=30, max_features=9 .................................\n",
      "[CV]  n_estimators=30, max_features=9, score=(train=-9019170.063, test=-53959820.710), total= 8.2min\n",
      "[CV] n_estimators=6, max_features=3 ..................................\n",
      "[CV]  n_estimators=6, max_features=3, score=(train=-18306707.490, test=-76441593.931), total= 1.8min\n",
      "[CV] n_estimators=6, max_features=3 ..................................\n",
      "[CV]  n_estimators=6, max_features=3, score=(train=-18501219.464, test=-82174281.292), total= 1.3min\n",
      "[CV] n_estimators=6, max_features=3 ..................................\n",
      "[CV]  n_estimators=6, max_features=3, score=(train=-18316147.442, test=-83318046.271), total= 1.9min\n",
      "[CV] n_estimators=6, max_features=3 ..................................\n",
      "[CV]  n_estimators=6, max_features=3, score=(train=-18489803.195, test=-85576483.894), total= 2.0min\n",
      "[CV] n_estimators=6, max_features=3 ..................................\n",
      "[CV]  n_estimators=6, max_features=3, score=(train=-17784207.942, test=-75246157.821), total= 2.1min\n",
      "[CV] n_estimators=3, max_features=9 ..................................\n",
      "[CV]  n_estimators=3, max_features=9, score=(train=-25077570.687, test=-85156427.403), total= 1.1min\n",
      "[CV] n_estimators=3, max_features=9 ..................................\n",
      "[CV]  n_estimators=3, max_features=9, score=(train=-28127187.282, test=-98294436.422), total=  53.7s\n",
      "[CV] n_estimators=3, max_features=9 ..................................\n",
      "[CV]  n_estimators=3, max_features=9, score=(train=-26788939.593, test=-98289424.185), total=  54.9s\n",
      "[CV] n_estimators=3, max_features=9 ..................................\n",
      "[CV]  n_estimators=3, max_features=9, score=(train=-27924667.097, test=-100755748.704), total= 1.1min\n",
      "[CV] n_estimators=3, max_features=9 ..................................\n",
      "[CV]  n_estimators=3, max_features=9, score=(train=-27250625.479, test=-96377513.806), total=  54.1s\n",
      "[CV] n_estimators=6, max_features=30 .................................\n",
      "[CV]  n_estimators=6, max_features=30, score=(train=-11883994.726, test=-48752436.689), total= 1.7min\n",
      "[CV] n_estimators=6, max_features=30 .................................\n",
      "[CV]  n_estimators=6, max_features=30, score=(train=-11773431.696, test=-48658376.090), total= 1.2min\n",
      "[CV] n_estimators=6, max_features=30 .................................\n",
      "[CV]  n_estimators=6, max_features=30, score=(train=-12545256.456, test=-54440138.757), total= 1.3min\n",
      "[CV] n_estimators=6, max_features=30 .................................\n",
      "[CV]  n_estimators=6, max_features=30, score=(train=-11792748.773, test=-52079926.028), total= 1.3min\n",
      "[CV] n_estimators=6, max_features=30 .................................\n",
      "[CV]  n_estimators=6, max_features=30, score=(train=-11944011.047, test=-49848030.855), total= 1.3min\n",
      "[CV] n_estimators=30, max_features=30 ................................\n",
      "[CV]  n_estimators=30, max_features=30, score=(train=-6696811.320, test=-37754343.202), total= 5.2min\n",
      "[CV] n_estimators=30, max_features=30 ................................\n",
      "[CV]  n_estimators=30, max_features=30, score=(train=-6706624.988, test=-39456339.359), total= 5.1min\n",
      "[CV] n_estimators=30, max_features=30 ................................\n",
      "[CV]  n_estimators=30, max_features=30, score=(train=-6706352.596, test=-43111118.707), total= 4.9min\n",
      "[CV] n_estimators=30, max_features=30 ................................\n",
      "[CV]  n_estimators=30, max_features=30, score=(train=-6620556.628, test=-42739800.269), total= 5.0min\n",
      "[CV] n_estimators=30, max_features=30 ................................\n",
      "[CV]  n_estimators=30, max_features=30, score=(train=-6676893.876, test=-38966879.941), total= 5.0min\n",
      "[CV] n_estimators=30, max_features=3 .................................\n",
      "[CV]  n_estimators=30, max_features=3, score=(train=-10609834.934, test=-61332118.798), total= 5.8min\n",
      "[CV] n_estimators=30, max_features=3 .................................\n",
      "[CV]  n_estimators=30, max_features=3, score=(train=-10445489.402, test=-63391477.510), total= 5.4min\n",
      "[CV] n_estimators=30, max_features=3 .................................\n",
      "[CV]  n_estimators=30, max_features=3, score=(train=-10220750.285, test=-65775533.198), total= 5.4min\n",
      "[CV] n_estimators=30, max_features=3 .................................\n",
      "[CV]  n_estimators=30, max_features=3, score=(train=-10210559.303, test=-66311453.294), total= 7.9min\n",
      "[CV] n_estimators=30, max_features=3 .................................\n",
      "[CV]  n_estimators=30, max_features=3, score=(train=-10275391.035, test=-61883187.292), total= 7.9min\n",
      "[CV] n_estimators=15, max_features=3 .................................\n",
      "[CV]  n_estimators=15, max_features=3, score=(train=-12640509.361, test=-65924612.727), total= 4.0min\n",
      "[CV] n_estimators=15, max_features=3 .................................\n",
      "[CV]  n_estimators=15, max_features=3, score=(train=-12674274.342, test=-69202907.802), total= 4.0min\n",
      "[CV] n_estimators=15, max_features=3 .................................\n",
      "[CV]  n_estimators=15, max_features=3, score=(train=-12194586.929, test=-70451528.767), total= 4.0min\n",
      "[CV] n_estimators=15, max_features=3 .................................\n",
      "[CV]  n_estimators=15, max_features=3, score=(train=-12602430.249, test=-73230207.325), total= 4.0min\n",
      "[CV] n_estimators=15, max_features=3 .................................\n",
      "[CV]  n_estimators=15, max_features=3, score=(train=-12510034.647, test=-67415773.685), total= 4.0min\n"
     ]
    },
    {
     "name": "stderr",
     "output_type": "stream",
     "text": [
      "[Parallel(n_jobs=1)]: Done  50 out of  50 | elapsed: 162.6min finished\n"
     ]
    },
    {
     "name": "stdout",
     "output_type": "stream",
     "text": [
      "Best Parameters : {'n_estimators': 30, 'max_features': 30}\n",
      "Best cross_val score : -40405696.29540233\n"
     ]
    }
   ],
   "source": [
    "from sklearn.ensemble import RandomForestRegressor\n",
    "\n",
    "# 5-fold cv\n",
    "parameter_grid = [{'n_estimators':[3,6,9,15,30], \n",
    "                   'max_features':[3,6,9,15,30]}]\n",
    "rf_search = RandomizedSearchCV(RandomForestRegressor(random_state=101),parameter_grid, \n",
    "                               scoring = 'neg_mean_squared_error',cv=5, verbose=3, return_train_score=True)\n",
    "rf_search.fit(X_train, y_train)\n",
    "print(\"Best Parameters : {}\".format(rf_search.best_params_))\n",
    "print(\"Best cross_val score : {}\".format(rf_search.best_score_))"
   ]
  },
  {
   "cell_type": "code",
   "execution_count": 80,
   "metadata": {},
   "outputs": [
    {
     "data": {
      "image/png": "[encoded data removed]",
      "text/plain": [
       "<Figure size 720x432 with 1 Axes>"
      ]
     },
     "metadata": {
      "needs_background": "light"
     },
     "output_type": "display_data"
    },
    {
     "data": {
      "text/html": [
       "<div>\n",
       "<style scoped>\n",
       "    .dataframe tbody tr th:only-of-type {\n",
       "        vertical-align: middle;\n",
       "    }\n",
       "\n",
       "    .dataframe tbody tr th {\n",
       "        vertical-align: top;\n",
       "    }\n",
       "\n",
       "    .dataframe thead th {\n",
       "        text-align: right;\n",
       "    }\n",
       "</style>\n",
       "<table border=\"1\" class=\"dataframe\">\n",
       "  <thead>\n",
       "    <tr style=\"text-align: right;\">\n",
       "      <th></th>\n",
       "      <th>0</th>\n",
       "      <th>1</th>\n",
       "      <th>2</th>\n",
       "      <th>3</th>\n",
       "      <th>4</th>\n",
       "      <th>5</th>\n",
       "      <th>6</th>\n",
       "      <th>7</th>\n",
       "      <th>8</th>\n",
       "      <th>9</th>\n",
       "    </tr>\n",
       "  </thead>\n",
       "  <tbody>\n",
       "    <tr>\n",
       "      <th>identifier</th>\n",
       "      <td>0</td>\n",
       "      <td>1</td>\n",
       "      <td>2</td>\n",
       "      <td>3</td>\n",
       "      <td>4</td>\n",
       "      <td>5</td>\n",
       "      <td>6</td>\n",
       "      <td>7</td>\n",
       "      <td>8</td>\n",
       "      <td>9</td>\n",
       "    </tr>\n",
       "    <tr>\n",
       "      <th>identifier_name</th>\n",
       "      <td>'n_estimators': 9, 'max_features': 9</td>\n",
       "      <td>'n_estimators': 6, 'max_features': 15</td>\n",
       "      <td>'n_estimators': 6, 'max_features': 6</td>\n",
       "      <td>'n_estimators': 30, 'max_features': 9</td>\n",
       "      <td>'n_estimators': 6, 'max_features': 3</td>\n",
       "      <td>'n_estimators': 3, 'max_features': 9</td>\n",
       "      <td>'n_estimators': 6, 'max_features': 30</td>\n",
       "      <td>'n_estimators': 30, 'max_features': 30</td>\n",
       "      <td>'n_estimators': 30, 'max_features': 3</td>\n",
       "      <td>'n_estimators': 15, 'max_features': 3</td>\n",
       "    </tr>\n",
       "  </tbody>\n",
       "</table>\n",
       "</div>"
      ],
      "text/plain": [
       "                                                    0  \\\n",
       "identifier                                          0   \n",
       "identifier_name  'n_estimators': 9, 'max_features': 9   \n",
       "\n",
       "                                                     1  \\\n",
       "identifier                                           1   \n",
       "identifier_name  'n_estimators': 6, 'max_features': 15   \n",
       "\n",
       "                                                    2  \\\n",
       "identifier                                          2   \n",
       "identifier_name  'n_estimators': 6, 'max_features': 6   \n",
       "\n",
       "                                                     3  \\\n",
       "identifier                                           3   \n",
       "identifier_name  'n_estimators': 30, 'max_features': 9   \n",
       "\n",
       "                                                    4  \\\n",
       "identifier                                          4   \n",
       "identifier_name  'n_estimators': 6, 'max_features': 3   \n",
       "\n",
       "                                                    5  \\\n",
       "identifier                                          5   \n",
       "identifier_name  'n_estimators': 3, 'max_features': 9   \n",
       "\n",
       "                                                     6  \\\n",
       "identifier                                           6   \n",
       "identifier_name  'n_estimators': 6, 'max_features': 30   \n",
       "\n",
       "                                                      7  \\\n",
       "identifier                                            7   \n",
       "identifier_name  'n_estimators': 30, 'max_features': 30   \n",
       "\n",
       "                                                     8  \\\n",
       "identifier                                           8   \n",
       "identifier_name  'n_estimators': 30, 'max_features': 3   \n",
       "\n",
       "                                                     9  \n",
       "identifier                                           9  \n",
       "identifier_name  'n_estimators': 15, 'max_features': 3  "
      ]
     },
     "execution_count": 80,
     "metadata": {},
     "output_type": "execute_result"
    }
   ],
   "source": [
    "# plot Randomized search parameter scores\n",
    "results = pd.DataFrame(rf_search.cv_results_)\n",
    "results['identifier_name'] = results.params.apply(lambda x: str(x).replace('{','').replace('}',''))\n",
    "results['identifier'] = (results.index)\n",
    "grid_score_plot(results,'identifier','mean_train_score','mean_test_score','Randomized Search Train Test Plot','Parameters','Scores','show')\n",
    "results[['identifier','identifier_name']].transpose()"
   ]
  },
  {
   "cell_type": "code",
   "execution_count": 86,
   "metadata": {},
   "outputs": [
    {
     "name": "stdout",
     "output_type": "stream",
     "text": [
      "6127.1174215701585\n"
     ]
    }
   ],
   "source": [
    "from sklearn.ensemble import RandomForestRegressor\n",
    "\n",
    "# instantiate model with 30 decision trees\n",
    "rf = RandomForestRegressor(n_estimators = 30, max_features=30, random_state=101)\n",
    "\n",
    "# fit the model on training data\n",
    "rf.fit(X_train, y_train);\n",
    "\n",
    "# make prediction\n",
    "rf_pred = rf.predict(X_val) \n",
    "\n",
    "# evaluation (rmse)\n",
    "rf_mse = mean_squared_error(y_val, rf_pred)\n",
    "rf_rmse = np.sqrt(rf_mse)\n",
    "print(rf_rmse)"
   ]
  },
  {
   "cell_type": "code",
   "execution_count": 87,
   "metadata": {},
   "outputs": [
    {
     "data": {
      "text/plain": [
       "exclusive_use_area        0.24\n",
       "total_park_cnt            0.09\n",
       "avg_baby_per_teacher      0.07\n",
       "city_부산광역시                0.05\n",
       "floor                     0.05\n",
       "avg_park_area             0.04\n",
       "city_서울특별시                0.03\n",
       "gu_서초구                    0.02\n",
       "gu_강남구                    0.02\n",
       "dong_반포동                  0.02\n",
       "transaction_year_2017     0.02\n",
       "dong_압구정동                 0.01\n",
       "gu_송파구                    0.01\n",
       "dong_대치동                  0.01\n",
       "year_of_completion_2011   0.01\n",
       "year_of_completion_2009   0.01\n",
       "gu_용산구                    0.01\n",
       "gu_강서구                    0.01\n",
       "dong_잠실동                  0.01\n",
       "transaction_year_2016     0.01\n",
       "dong_한남동                  0.01\n",
       "dong_도곡동                  0.01\n",
       "year_of_completion_1978   0.01\n",
       "year_of_completion_2008   0.00\n",
       "year_of_completion_2004   0.00\n",
       "year_of_completion_2003   0.00\n",
       "dong_여의도동                 0.00\n",
       "year_of_completion_2012   0.00\n",
       "year_of_completion_2005   0.00\n",
       "dong_목동                   0.00\n",
       "dtype: float64"
      ]
     },
     "execution_count": 87,
     "metadata": {},
     "output_type": "execute_result"
    }
   ],
   "source": [
    "# look up important features\n",
    "feature_importance = rf.feature_importances_\n",
    "attributes = list(X_train.columns)\n",
    "feature_importance_table = pd.Series(feature_importance, index=attributes).sort_values(ascending=False)[0:30]\n",
    "feature_importance_table[0:30]"
   ]
  },
  {
   "cell_type": "code",
   "execution_count": 88,
   "metadata": {},
   "outputs": [
    {
     "data": {
      "image/png": "[encoded data removed]",
      "text/plain": [
       "<Figure size 1440x1080 with 1 Axes>"
      ]
     },
     "metadata": {
      "needs_background": "light"
     },
     "output_type": "display_data"
    }
   ],
   "source": [
    "# plot feature importance\n",
    "fig = plt.figure(figsize=(20,15))\n",
    "sns.barplot(x=feature_importance_table, y=feature_importance_table.index)\n",
    "plt.xlabel('Feature Importance Score')\n",
    "plt.ylabel('Features')\n",
    "plt.title(\"Visualizing Important Features\")\n",
    "plt.show()"
   ]
  },
  {
   "cell_type": "markdown",
   "metadata": {},
   "source": [
    "It looks quite obvious except that floor is not as important as presumed. "
   ]
  },
  {
   "cell_type": "markdown",
   "metadata": {},
   "source": [
    "#### Dimensionality Reduction \n",
    "I wanted to make sure dimensionality reduction may help me have better interpretability. <br>\n",
    "Year of completion, floor, dong are reduced as follow:\n",
    "- year_of_completion -> very old, old, new, very new\n",
    "- floor -> basement, low, high, very high\n",
    "- dong -> drop the column"
   ]
  },
  {
   "cell_type": "code",
   "execution_count": 89,
   "metadata": {},
   "outputs": [],
   "source": [
    "# year_of_completion: 5-year gap\n",
    "test_park_day.loc[test_park_day['year_of_completion']<1990, 'completion_year'] = '-1990'\n",
    "train_park_day.loc[(train_park_day['year_of_completion']>=1990) & (train_park_day['year_of_completion']<1995), 'completion_year'] = '1990-1995'\n",
    "train_park_day.loc[(train_park_day['year_of_completion']>=1995) & (train_park_day['year_of_completion']<2000), 'completion_year'] = '1995-2000'\n",
    "train_park_day.loc[(train_park_day['year_of_completion']>=2000) & (train_park_day['year_of_completion']<2005), 'completion_year'] = '2000-2005'\n",
    "train_park_day.loc[(train_park_day['year_of_completion']>=2005) & (train_park_day['year_of_completion']<2010), 'completion_year'] = '2005-2010'\n",
    "train_park_day.loc[(train_park_day['year_of_completion']>=2010) & (train_park_day['year_of_completion']<2015), 'completion_year'] = '2010-2015'\n",
    "train_park_day.loc[(train_park_day['year_of_completion']>=2015), 'completion_year'] = '2015-2020'\n",
    "\n",
    "test_park_day.loc[test_park_day['year_of_completion']<1990, 'completion_year'] = '-1990'\n",
    "test_park_day.loc[(test_park_day['year_of_completion']>=1990) & (test_park_day['year_of_completion']<1995), 'completion_year'] = '1990-1995'\n",
    "test_park_day.loc[(test_park_day['year_of_completion']>=1995) & (test_park_day['year_of_completion']<2000), 'completion_year'] = '1995-2000'\n",
    "test_park_day.loc[(test_park_day['year_of_completion']>=2000) & (test_park_day['year_of_completion']<2005), 'completion_year'] = '2000-2005'\n",
    "test_park_day.loc[(test_park_day['year_of_completion']>=2005) & (test_park_day['year_of_completion']<2010), 'completion_year'] = '2005-2010'\n",
    "test_park_day.loc[(test_park_day['year_of_completion']>=2010) & (test_park_day['year_of_completion']<2015), 'completion_year'] = '2010-2015'\n",
    "test_park_day.loc[(test_park_day['year_of_completion']>=2015), 'completion_year'] = '2015-2020'\n",
    "\n",
    "train_park_day.drop('year_of_completion', axis=1, inplace=True)\n",
    "test_park_day.drop('year_of_completion', axis=1, inplace=True)"
   ]
  },
  {
   "cell_type": "code",
   "execution_count": 90,
   "metadata": {},
   "outputs": [],
   "source": [
    "# floor: basement(<0), low(0-10), high(10-30), very high(>30)\n",
    "train_park_day.loc[train_park_day['floor']<0, 'floor_level'] = 'basement'\n",
    "train_park_day.loc[(train_park_day['floor']>=0) & (train_park_day['floor']<10), 'floor_level'] = 'low'\n",
    "train_park_day.loc[(train_park_day['floor']>=10) & (train_park_day['floor']<30), 'floor_level'] = 'high'\n",
    "train_park_day.loc[train_park_day['floor']>=30, 'floor_level'] = 'very high'\n",
    "\n",
    "test_park_day.loc[test_park_day['floor']<0, 'floor_level'] = 'basement'\n",
    "test_park_day.loc[(test_park_day['floor']>=0) & (test_park_day['floor']<10), 'floor_level'] = 'low'\n",
    "test_park_day.loc[(test_park_day['floor']>=10) & (test_park_day['floor']<30), 'floor_level'] = 'high'\n",
    "test_park_day.loc[test_park_day['floor']>=30, 'floor_level'] = 'very high'\n",
    "\n",
    "train_park_day.drop('floor', axis=1, inplace=True)\n",
    "test_park_day.drop('floor', axis=1, inplace=True)"
   ]
  },
  {
   "cell_type": "code",
   "execution_count": 91,
   "metadata": {},
   "outputs": [
    {
     "name": "stdout",
     "output_type": "stream",
     "text": [
      "(1204685, 80)\n",
      "(5463, 71)\n"
     ]
    }
   ],
   "source": [
    "train2 = pd.get_dummies(train_park_day, columns=['city','gu','completion_year','floor_level',\n",
    "                                                'transaction_year','transaction_month','transaction_date'])\n",
    "print(train2.shape)\n",
    "train2 = train2.set_index('transaction_id')\n",
    "\n",
    "test2 = pd.get_dummies(test_park_day, columns=['city','gu','completion_year','floor_level',\n",
    "                                              'transaction_year','transaction_month','transaction_date'])\n",
    "print(test2.shape)\n",
    "test2 = test2.set_index('transaction_id')\n",
    "\n",
    "# drop columns\n",
    "train2 = train2.drop(['apartment_id','dong'], axis=1)\n",
    "test2 = test2.drop(['apartment_id','dong'], axis=1)"
   ]
  },
  {
   "cell_type": "code",
   "execution_count": 92,
   "metadata": {},
   "outputs": [],
   "source": [
    "# Data Split\n",
    "final_test2 = train2['transaction_real_price']\n",
    "final_train2 = train2.drop('transaction_real_price', axis=1)\n",
    "\n",
    "X_train2, X_val2, y_train2, y_val2 = train_test_split(final_train2, final_test2, test_size=0.3, random_state=101)"
   ]
  },
  {
   "cell_type": "code",
   "execution_count": 93,
   "metadata": {},
   "outputs": [
    {
     "name": "stdout",
     "output_type": "stream",
     "text": [
      "6669.633361560669\n"
     ]
    }
   ],
   "source": [
    "# instantiate model with 1000 decision trees\n",
    "rf2 = RandomForestRegressor(n_estimators = 30, max_features=30, random_state=101)\n",
    "\n",
    "# fit the model on training data\n",
    "rf2.fit(X_train2, y_train2);\n",
    "\n",
    "# make prediction\n",
    "rf_pred2 = rf2.predict(X_val2) \n",
    "\n",
    "# evaluation (rmse)\n",
    "rf_mse2 = mean_squared_error(y_val2, rf_pred2)\n",
    "rf_rmse2 = np.sqrt(rf_mse2)\n",
    "print(rf_rmse2)"
   ]
  },
  {
   "cell_type": "code",
   "execution_count": 94,
   "metadata": {},
   "outputs": [
    {
     "data": {
      "text/plain": [
       "exclusive_use_area          0.41\n",
       "total_park_cnt              0.15\n",
       "city_서울특별시                  0.06\n",
       "avg_park_area               0.06\n",
       "city_부산광역시                  0.06\n",
       "avg_baby_per_teacher        0.04\n",
       "completion_year_2010-2015   0.02\n",
       "transaction_year_2017       0.02\n",
       "completion_year_2000-2005   0.01\n",
       "gu_서초구                      0.01\n",
       "gu_강서구                      0.01\n",
       "gu_강남구                      0.01\n",
       "completion_year_2005-2010   0.01\n",
       "completion_year_1995-2000   0.01\n",
       "floor_level_very high       0.01\n",
       "gu_용산구                      0.01\n",
       "floor_level_low             0.01\n",
       "completion_year_1990-1995   0.01\n",
       "transaction_year_2016       0.01\n",
       "completion_year_2015-2020   0.00\n",
       "floor_level_high            0.00\n",
       "gu_송파구                      0.00\n",
       "transaction_year_2008       0.00\n",
       "transaction_year_2009       0.00\n",
       "gu_마포구                      0.00\n",
       "transaction_year_2015       0.00\n",
       "transaction_month_1         0.00\n",
       "transaction_year_2013       0.00\n",
       "transaction_month_2         0.00\n",
       "transaction_year_2010       0.00\n",
       "dtype: float64"
      ]
     },
     "execution_count": 94,
     "metadata": {},
     "output_type": "execute_result"
    }
   ],
   "source": [
    "# look up important features\n",
    "feature_importance = rf2.feature_importances_\n",
    "attributes = list(X_train2.columns)\n",
    "feature_importance_table = pd.Series(feature_importance, index=attributes).sort_values(ascending=False)[0:30]\n",
    "feature_importance_table[0:30]"
   ]
  },
  {
   "cell_type": "code",
   "execution_count": 95,
   "metadata": {},
   "outputs": [
    {
     "data": {
      "image/png": "[encoded data removed]",
      "text/plain": [
       "<Figure size 1440x1080 with 1 Axes>"
      ]
     },
     "metadata": {
      "needs_background": "light"
     },
     "output_type": "display_data"
    }
   ],
   "source": [
    "# plot feature importance\n",
    "fig = plt.figure(figsize=(20,15))\n",
    "sns.barplot(x=feature_importance_table, y=feature_importance_table.index)\n",
    "plt.xlabel('Feature Importance Score')\n",
    "plt.ylabel('Features')\n",
    "plt.title(\"Visualizing Important Features\")\n",
    "plt.show()"
   ]
  },
  {
   "cell_type": "markdown",
   "metadata": {},
   "source": [
    "As we can see above, 'exclusive_use_are' apparently the most critical feature in predicting apartment prices. Total park numbers in each gu, seoul city, average park area in each gu, busan city, average day care center babies per teacher  are following.\n",
    "\n",
    "Yes, other than use area, surrounding welfare facilities such as park and day care center plays an important role in increasing apartment price.\n",
    "\n",
    "Interesting fact is that gu does not seem valued as dong does in the former case, and it is obviously because gu consists of many dongs and it offsets the influence from popular dongs such as 반포동, 잠실동, 대치동. "
   ]
  },
  {
   "cell_type": "code",
   "execution_count": 98,
   "metadata": {},
   "outputs": [
    {
     "name": "stdout",
     "output_type": "stream",
     "text": [
      "(361406, 511)\n",
      "(5463, 501)\n"
     ]
    }
   ],
   "source": [
    "# cannot fit if there is the difference in number of columns\n",
    "print(X_val.shape)\n",
    "print(test.shape)"
   ]
  },
  {
   "cell_type": "code",
   "execution_count": 99,
   "metadata": {},
   "outputs": [
    {
     "data": {
      "text/plain": [
       "{'transaction_year_2008',\n",
       " 'transaction_year_2009',\n",
       " 'transaction_year_2010',\n",
       " 'transaction_year_2011',\n",
       " 'transaction_year_2012',\n",
       " 'transaction_year_2013',\n",
       " 'transaction_year_2014',\n",
       " 'transaction_year_2015',\n",
       " 'transaction_year_2016',\n",
       " 'year_of_completion_1966'}"
      ]
     },
     "execution_count": 99,
     "metadata": {},
     "output_type": "execute_result"
    }
   ],
   "source": [
    "# check columns\n",
    "set(X_val.columns) - set(test.columns)"
   ]
  },
  {
   "cell_type": "code",
   "execution_count": 100,
   "metadata": {},
   "outputs": [],
   "source": [
    "# add columns that were not existing in validation\n",
    "test['transaction_year_2008'] = 0\n",
    "test['transaction_year_2009'] = 0\n",
    "test['transaction_year_2010'] = 0\n",
    "test['transaction_year_2011'] = 0\n",
    "test['transaction_year_2012'] = 0\n",
    "test['transaction_year_2013'] = 0\n",
    "test['transaction_year_2014'] = 0\n",
    "test['transaction_year_2015'] = 0\n",
    "test['transaction_year_2016'] = 0\n",
    "test['year_of_completion_1966'] = 0"
   ]
  },
  {
   "cell_type": "code",
   "execution_count": 101,
   "metadata": {},
   "outputs": [
    {
     "data": {
      "text/html": [
       "<div>\n",
       "<style scoped>\n",
       "    .dataframe tbody tr th:only-of-type {\n",
       "        vertical-align: middle;\n",
       "    }\n",
       "\n",
       "    .dataframe tbody tr th {\n",
       "        vertical-align: top;\n",
       "    }\n",
       "\n",
       "    .dataframe thead th {\n",
       "        text-align: right;\n",
       "    }\n",
       "</style>\n",
       "<table border=\"1\" class=\"dataframe\">\n",
       "  <thead>\n",
       "    <tr style=\"text-align: right;\">\n",
       "      <th></th>\n",
       "      <th>transaction_real_price</th>\n",
       "    </tr>\n",
       "  </thead>\n",
       "  <tbody>\n",
       "    <tr>\n",
       "      <th>0</th>\n",
       "      <td>34634.00</td>\n",
       "    </tr>\n",
       "    <tr>\n",
       "      <th>1</th>\n",
       "      <td>12905.00</td>\n",
       "    </tr>\n",
       "    <tr>\n",
       "      <th>2</th>\n",
       "      <td>8600.80</td>\n",
       "    </tr>\n",
       "    <tr>\n",
       "      <th>3</th>\n",
       "      <td>100016.67</td>\n",
       "    </tr>\n",
       "    <tr>\n",
       "      <th>4</th>\n",
       "      <td>23374.17</td>\n",
       "    </tr>\n",
       "    <tr>\n",
       "      <th>...</th>\n",
       "      <td>...</td>\n",
       "    </tr>\n",
       "    <tr>\n",
       "      <th>5458</th>\n",
       "      <td>45875.00</td>\n",
       "    </tr>\n",
       "    <tr>\n",
       "      <th>5459</th>\n",
       "      <td>91015.00</td>\n",
       "    </tr>\n",
       "    <tr>\n",
       "      <th>5460</th>\n",
       "      <td>43966.67</td>\n",
       "    </tr>\n",
       "    <tr>\n",
       "      <th>5461</th>\n",
       "      <td>26711.67</td>\n",
       "    </tr>\n",
       "    <tr>\n",
       "      <th>5462</th>\n",
       "      <td>16380.17</td>\n",
       "    </tr>\n",
       "  </tbody>\n",
       "</table>\n",
       "<p>5463 rows × 1 columns</p>\n",
       "</div>"
      ],
      "text/plain": [
       "      transaction_real_price\n",
       "0                   34634.00\n",
       "1                   12905.00\n",
       "2                    8600.80\n",
       "3                  100016.67\n",
       "4                   23374.17\n",
       "...                      ...\n",
       "5458                45875.00\n",
       "5459                91015.00\n",
       "5460                43966.67\n",
       "5461                26711.67\n",
       "5462                16380.17\n",
       "\n",
       "[5463 rows x 1 columns]"
      ]
     },
     "execution_count": 101,
     "metadata": {},
     "output_type": "execute_result"
    }
   ],
   "source": [
    "# Final model for the submission\n",
    "final_rf_pred = rf.predict(test)\n",
    "final_rf_pred_df = pd.DataFrame(final_rf_pred, columns=['transaction_real_price'])\n",
    "final_rf_pred_df"
   ]
  },
  {
   "cell_type": "code",
   "execution_count": 102,
   "metadata": {},
   "outputs": [
    {
     "data": {
      "text/html": [
       "<div>\n",
       "<style scoped>\n",
       "    .dataframe tbody tr th:only-of-type {\n",
       "        vertical-align: middle;\n",
       "    }\n",
       "\n",
       "    .dataframe tbody tr th {\n",
       "        vertical-align: top;\n",
       "    }\n",
       "\n",
       "    .dataframe thead th {\n",
       "        text-align: right;\n",
       "    }\n",
       "</style>\n",
       "<table border=\"1\" class=\"dataframe\">\n",
       "  <thead>\n",
       "    <tr style=\"text-align: right;\">\n",
       "      <th></th>\n",
       "      <th>transaction_id</th>\n",
       "    </tr>\n",
       "  </thead>\n",
       "  <tbody>\n",
       "    <tr>\n",
       "      <th>0</th>\n",
       "      <td>1145756</td>\n",
       "    </tr>\n",
       "    <tr>\n",
       "      <th>1</th>\n",
       "      <td>1198704</td>\n",
       "    </tr>\n",
       "    <tr>\n",
       "      <th>2</th>\n",
       "      <td>1222384</td>\n",
       "    </tr>\n",
       "    <tr>\n",
       "      <th>3</th>\n",
       "      <td>1179897</td>\n",
       "    </tr>\n",
       "    <tr>\n",
       "      <th>4</th>\n",
       "      <td>1223091</td>\n",
       "    </tr>\n",
       "    <tr>\n",
       "      <th>...</th>\n",
       "      <td>...</td>\n",
       "    </tr>\n",
       "    <tr>\n",
       "      <th>5458</th>\n",
       "      <td>1174640</td>\n",
       "    </tr>\n",
       "    <tr>\n",
       "      <th>5459</th>\n",
       "      <td>1175575</td>\n",
       "    </tr>\n",
       "    <tr>\n",
       "      <th>5460</th>\n",
       "      <td>1157024</td>\n",
       "    </tr>\n",
       "    <tr>\n",
       "      <th>5461</th>\n",
       "      <td>1136863</td>\n",
       "    </tr>\n",
       "    <tr>\n",
       "      <th>5462</th>\n",
       "      <td>1218921</td>\n",
       "    </tr>\n",
       "  </tbody>\n",
       "</table>\n",
       "<p>5463 rows × 1 columns</p>\n",
       "</div>"
      ],
      "text/plain": [
       "      transaction_id\n",
       "0            1145756\n",
       "1            1198704\n",
       "2            1222384\n",
       "3            1179897\n",
       "4            1223091\n",
       "...              ...\n",
       "5458         1174640\n",
       "5459         1175575\n",
       "5460         1157024\n",
       "5461         1136863\n",
       "5462         1218921\n",
       "\n",
       "[5463 rows x 1 columns]"
      ]
     },
     "execution_count": 102,
     "metadata": {},
     "output_type": "execute_result"
    }
   ],
   "source": [
    "# import submission.csv\n",
    "submission = pd.read_csv('./input/submission.csv')\n",
    "submission.drop('transaction_real_price', axis=1, inplace=True)\n",
    "submission"
   ]
  },
  {
   "cell_type": "code",
   "execution_count": 103,
   "metadata": {},
   "outputs": [
    {
     "data": {
      "text/html": [
       "<div>\n",
       "<style scoped>\n",
       "    .dataframe tbody tr th:only-of-type {\n",
       "        vertical-align: middle;\n",
       "    }\n",
       "\n",
       "    .dataframe tbody tr th {\n",
       "        vertical-align: top;\n",
       "    }\n",
       "\n",
       "    .dataframe thead th {\n",
       "        text-align: right;\n",
       "    }\n",
       "</style>\n",
       "<table border=\"1\" class=\"dataframe\">\n",
       "  <thead>\n",
       "    <tr style=\"text-align: right;\">\n",
       "      <th></th>\n",
       "      <th>transaction_id</th>\n",
       "      <th>transaction_real_price</th>\n",
       "    </tr>\n",
       "  </thead>\n",
       "  <tbody>\n",
       "    <tr>\n",
       "      <th>0</th>\n",
       "      <td>1145756</td>\n",
       "      <td>34634.00</td>\n",
       "    </tr>\n",
       "    <tr>\n",
       "      <th>1</th>\n",
       "      <td>1198704</td>\n",
       "      <td>12905.00</td>\n",
       "    </tr>\n",
       "    <tr>\n",
       "      <th>2</th>\n",
       "      <td>1222384</td>\n",
       "      <td>8600.80</td>\n",
       "    </tr>\n",
       "    <tr>\n",
       "      <th>3</th>\n",
       "      <td>1179897</td>\n",
       "      <td>100016.67</td>\n",
       "    </tr>\n",
       "    <tr>\n",
       "      <th>4</th>\n",
       "      <td>1223091</td>\n",
       "      <td>23374.17</td>\n",
       "    </tr>\n",
       "    <tr>\n",
       "      <th>...</th>\n",
       "      <td>...</td>\n",
       "      <td>...</td>\n",
       "    </tr>\n",
       "    <tr>\n",
       "      <th>5458</th>\n",
       "      <td>1174640</td>\n",
       "      <td>45875.00</td>\n",
       "    </tr>\n",
       "    <tr>\n",
       "      <th>5459</th>\n",
       "      <td>1175575</td>\n",
       "      <td>91015.00</td>\n",
       "    </tr>\n",
       "    <tr>\n",
       "      <th>5460</th>\n",
       "      <td>1157024</td>\n",
       "      <td>43966.67</td>\n",
       "    </tr>\n",
       "    <tr>\n",
       "      <th>5461</th>\n",
       "      <td>1136863</td>\n",
       "      <td>26711.67</td>\n",
       "    </tr>\n",
       "    <tr>\n",
       "      <th>5462</th>\n",
       "      <td>1218921</td>\n",
       "      <td>16380.17</td>\n",
       "    </tr>\n",
       "  </tbody>\n",
       "</table>\n",
       "<p>5463 rows × 2 columns</p>\n",
       "</div>"
      ],
      "text/plain": [
       "      transaction_id  transaction_real_price\n",
       "0            1145756                34634.00\n",
       "1            1198704                12905.00\n",
       "2            1222384                 8600.80\n",
       "3            1179897               100016.67\n",
       "4            1223091                23374.17\n",
       "...              ...                     ...\n",
       "5458         1174640                45875.00\n",
       "5459         1175575                91015.00\n",
       "5460         1157024                43966.67\n",
       "5461         1136863                26711.67\n",
       "5462         1218921                16380.17\n",
       "\n",
       "[5463 rows x 2 columns]"
      ]
     },
     "execution_count": 103,
     "metadata": {},
     "output_type": "execute_result"
    }
   ],
   "source": [
    "# Concat validation predictions to the submission file\n",
    "submission = pd.concat([submission, final_rf_pred_df], axis=1)\n",
    "submission"
   ]
  },
  {
   "cell_type": "code",
   "execution_count": 104,
   "metadata": {},
   "outputs": [],
   "source": [
    "# save it as a csv file\n",
    "submission.to_csv('seoul_apt_real_price_submission.csv')"
   ]
  },
  {
   "cell_type": "markdown",
   "metadata": {},
   "source": [
    "## End"
   ]
  }
 ],
 "metadata": {
  "kernelspec": {
   "display_name": "Python 3",
   "language": "python",
   "name": "python3"
  },
  "language_info": {
   "codemirror_mode": {
    "name": "ipython",
    "version": 3
   },
   "file_extension": ".py",
   "mimetype": "text/x-python",
   "name": "python",
   "nbconvert_exporter": "python",
   "pygments_lexer": "ipython3",
   "version": "3.8.3"
  }
 },
 "nbformat": 4,
 "nbformat_minor": 4
}
